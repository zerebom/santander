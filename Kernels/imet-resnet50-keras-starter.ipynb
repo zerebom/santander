{
 "cells": [
  {
   "cell_type": "markdown",
   "metadata": {},
   "source": [
    "# Introduction\n",
    "Modified from https://www.kaggle.com/mathormad/pretrained-resnet50-focal-loss/notebook?scriptVersionId=12746542\n",
    "(we have tried to catch up the Pytorch :) To see all my personal modification, please use `diff` from the original kernel to the latest version.\n",
    "\n",
    "The best score is at version 17. But that version used `ResNet50` instead of 'should-be-better' `ResNet50V2`\n",
    "\n",
    "In the current version, I try to improve the performance by change back from `DenseNet121` to `ResNet50`. For the previous DenseNet version with Acknowledgement, please take a look at version 9.\n",
    "\n",
    "### Modification list\n",
    "\n",
    "### ResNet50 Change LOG\n",
    "* V13 [LB553, CV546] PixSize224, LR1e-4, Batch64, 2048Dense-Head, 30Epochs\n",
    "* V14 [LB, CV549] Try VALID_SPLIT0.1, 29Epochs\n",
    "* V15 Try batch96 << runtime exceed, from LOG file, there is a memory issue that degrades performance too\n",
    "* V16 [CV528] Batch32, Epoch24 << finish too early & final LR too small\n",
    "* V17 [CV551, LB560] Batch88, Epoch27 \n",
    "* V18 [CV Bad] gamma=3\n",
    "* V19 [CV Bad] gamma=4\n",
    "* V20 [CV 524] change back to gamma=1 and use ResNetV2 weights -- thanks @mathormad again!\n",
    "* V21[CV 381!] change Hyperparameter\n",
    "* V22[CV526] batch64, LR1e-4\n",
    "* V23[CV511] batch48, LR8e-5\n",
    "* V24 Fix bugs on f2, my_f2 functions, try a bit deeper head to digest more information at the end\n",
    "* V25-27 try V17 again [FAILED]\n",
    "* V28 [] make a 'variable-size' input augmentation modification (resize later) - ResNetV1\n",
    "* V28-34 Bugs\n",
    "* V34 Bug Fixed [V2]\n",
    "* V35-36[CV558 / 531] increase LR, adjust ReduceOnPlateau for both V1&V2 -- After play around with Lopuhin's great kernel on pytorch, I try to make a learning process converge faster and better << Better results\n",
    "* V37-38 increase LR a bit more to force the network to converge earlier\n",
    "\n",
    "** ToDo ** Deal with this issue : http://blog.datumbox.com/the-batch-normalization-layer-of-keras-is-broken/"
   ]
  },
  {
   "cell_type": "code",
   "execution_count": 1,
   "metadata": {
    "_cell_guid": "b1076dfc-b9ad-4769-8c92-a6c4dae69d19",
    "_uuid": "8f2839f25d086af736a60e9eeb907d3b93b6e0e5"
   },
   "outputs": [
    {
     "name": "stdout",
     "output_type": "stream",
     "text": [
      "['resnet50', 'densenet-keras', 'keras-pretrain-model-weights', 'imet-2019-fgvc6']\n"
     ]
    }
   ],
   "source": [
    "# This Python 3 environment comes with many helpful analytics libraries installed\n",
    "# It is defined by the kaggle/python docker image: https://github.com/kaggle/docker-python\n",
    "# For example, here's several helpful packages to load in \n",
    "\n",
    "import numpy as np # linear algebra\n",
    "import pandas as pd # data processing, CSV file I/O (e.g. pd.read_csv)\n",
    "\n",
    "# Input data files are available in the \"../input/\" directory.\n",
    "# For example, running this (by clicking run or pressing Shift+Enter) will list the files in the input directory\n",
    "\n",
    "import os\n",
    "print(os.listdir(\"../input\"))\n",
    "\n",
    "# Any results you write to the current directory are saved as output."
   ]
  },
  {
   "cell_type": "code",
   "execution_count": 9,
   "metadata": {
    "_cell_guid": "79c7e3d0-c299-4dcb-8224-4455121ee9b0",
    "_uuid": "d629ff2d2480ee46fbb7e2d37f6b5fab8052498a"
   },
   "outputs": [
    {
     "ename": "ModuleNotFoundError",
     "evalue": "No module named 'skimage'",
     "output_type": "error",
     "traceback": [
      "\u001b[1;31m---------------------------------------------------------------------------\u001b[0m",
      "\u001b[1;31mModuleNotFoundError\u001b[0m                       Traceback (most recent call last)",
      "\u001b[1;32m<ipython-input-9-b18e472ee98a>\u001b[0m in \u001b[0;36m<module>\u001b[1;34m\u001b[0m\n\u001b[0;32m      3\u001b[0m \u001b[1;32mimport\u001b[0m \u001b[0mpandas\u001b[0m \u001b[1;32mas\u001b[0m \u001b[0mpd\u001b[0m\u001b[1;33m\u001b[0m\u001b[1;33m\u001b[0m\u001b[0m\n\u001b[0;32m      4\u001b[0m \u001b[1;32mimport\u001b[0m \u001b[0mmatplotlib\u001b[0m\u001b[1;33m.\u001b[0m\u001b[0mpyplot\u001b[0m \u001b[1;32mas\u001b[0m \u001b[0mplt\u001b[0m\u001b[1;33m\u001b[0m\u001b[1;33m\u001b[0m\u001b[0m\n\u001b[1;32m----> 5\u001b[1;33m \u001b[1;32mimport\u001b[0m \u001b[0mskimage\u001b[0m\u001b[1;33m.\u001b[0m\u001b[0mio\u001b[0m\u001b[1;33m\u001b[0m\u001b[1;33m\u001b[0m\u001b[0m\n\u001b[0m\u001b[0;32m      6\u001b[0m \u001b[1;32mfrom\u001b[0m \u001b[0mskimage\u001b[0m\u001b[1;33m.\u001b[0m\u001b[0mtransform\u001b[0m \u001b[1;32mimport\u001b[0m \u001b[0mresize\u001b[0m\u001b[1;33m\u001b[0m\u001b[1;33m\u001b[0m\u001b[0m\n\u001b[0;32m      7\u001b[0m \u001b[1;32mfrom\u001b[0m \u001b[0mimgaug\u001b[0m \u001b[1;32mimport\u001b[0m \u001b[0maugmenters\u001b[0m \u001b[1;32mas\u001b[0m \u001b[0miaa\u001b[0m\u001b[1;33m\u001b[0m\u001b[1;33m\u001b[0m\u001b[0m\n",
      "\u001b[1;31mModuleNotFoundError\u001b[0m: No module named 'skimage'"
     ]
    }
   ],
   "source": [
    "import os, sys\n",
    "import numpy as np\n",
    "import pandas as pd\n",
    "import matplotlib.pyplot as plt\n",
    "import skimage.io\n",
    "from skimage.transform import resize\n",
    "from imgaug import augmenters as iaa\n",
    "from tqdm import tqdm\n",
    "import PIL\n",
    "from PIL import Image\n",
    "import cv2\n",
    "from sklearn.utils import class_weight, shuffle\n",
    "from keras.losses import binary_crossentropy\n",
    "import keras.backend as K\n",
    "import tensorflow as tf\n",
    "from sklearn.metrics import f1_score\n",
    "from keras.utils import Sequence\n",
    "WORKERS = 2\n",
    "CHANNEL = 3\n",
    "NUM_CLASSES = 1103\n",
    "\n",
    "import warnings\n",
    "warnings.filterwarnings(\"ignore\")\n",
    "SIZE = 224\n",
    "\n",
    "RESNET_VER = 2 # Choose between V1 and V2\n",
    "epochs = 27\n",
    "batch_size = 88\n",
    "SPLIT_RATIO = 0.1\n",
    "POST_PROCESS = False\n",
    "LR = 5e-4\n",
    "LR_FACTOR = 0.2\n",
    "PATIENCE=2\n",
    "LR_WARM = 1e-3\n",
    "gamma = 0.0 # focal loss\n",
    "checkpoint_file = '../working/resnet50_focal.h5'"
   ]
  },
  {
   "cell_type": "code",
   "execution_count": 11,
   "metadata": {},
   "outputs": [
    {
     "name": "stdout",
     "output_type": "stream",
     "text": [
      "Collecting scikit-image\n",
      "  Downloading https://files.pythonhosted.org/packages/24/d5/a016b686ba4030c7e6039033bef899ff8a790819479016b2365eb929eacc/scikit_image-0.15.0-cp36-none-win_amd64.whl (25.6MB)\n",
      "Collecting PyWavelets>=0.4.0 (from scikit-image)\n",
      "  Downloading https://files.pythonhosted.org/packages/d9/98/2e0af756fa7c1bb49f752078c3e5c1dbf0d98b800c0a9c6f37d7a5cef2ef/PyWavelets-1.0.3-cp36-none-win_amd64.whl (4.2MB)\n",
      "Requirement already satisfied: pillow>=4.3.0 in c:\\users\\icech\\appdata\\local\\programs\\python\\python36\\lib\\site-packages (from scikit-image) (6.0.0)\n",
      "Collecting networkx>=2.0 (from scikit-image)\n",
      "  Downloading https://files.pythonhosted.org/packages/85/08/f20aef11d4c343b557e5de6b9548761811eb16e438cee3d32b1c66c8566b/networkx-2.3.zip (1.7MB)\n",
      "Collecting imageio>=2.0.1 (from scikit-image)\n",
      "  Downloading https://files.pythonhosted.org/packages/af/0a/943c965d372dae0b1f1482677d29030ab834351a61a9a632fd62f27f1523/imageio-2.5.0-py3-none-any.whl (3.3MB)\n",
      "Requirement already satisfied: numpy>=1.9.1 in c:\\users\\icech\\appdata\\local\\programs\\python\\python36\\lib\\site-packages (from PyWavelets>=0.4.0->scikit-image) (1.16.3)\n",
      "Requirement already satisfied: decorator>=4.3.0 in c:\\users\\icech\\appdata\\local\\programs\\python\\python36\\lib\\site-packages (from networkx>=2.0->scikit-image) (4.4.0)\n",
      "Building wheels for collected packages: networkx\n",
      "  Building wheel for networkx (setup.py): started\n",
      "  Building wheel for networkx (setup.py): finished with status 'done'\n",
      "  Stored in directory: C:\\Users\\icech\\AppData\\Local\\pip\\Cache\\wheels\\de\\63\\64\\3699be2a9d0ccdb37c7f16329acf3863fd76eda58c39c737af\n",
      "Successfully built networkx\n",
      "Installing collected packages: PyWavelets, networkx, imageio, scikit-image\n",
      "Successfully installed PyWavelets-1.0.3 imageio-2.5.0 networkx-2.3 scikit-image-0.15.0\n"
     ]
    },
    {
     "name": "stderr",
     "output_type": "stream",
     "text": [
      "WARNING: You are using pip version 19.1, however version 19.1.1 is available.\n",
      "You should consider upgrading via the 'python -m pip install --upgrade pip' command.\n"
     ]
    }
   ],
   "source": [
    "! pip install scikit-image"
   ]
  },
  {
   "cell_type": "code",
   "execution_count": 3,
   "metadata": {},
   "outputs": [
    {
     "name": "stdout",
     "output_type": "stream",
     "text": [
      "densenet-keras\timet-2019-fgvc6  keras-pretrain-model-weights  resnet50\n"
     ]
    }
   ],
   "source": [
    "!ls ../input"
   ]
  },
  {
   "cell_type": "code",
   "execution_count": 4,
   "metadata": {},
   "outputs": [],
   "source": [
    "# Load dataset info\n",
    "path_to_train = '../input/imet-2019-fgvc6/train/'\n",
    "data = pd.read_csv('../input/imet-2019-fgvc6/train.csv')\n",
    "\n",
    "train_dataset_info = []\n",
    "for name, labels in zip(data['id'], data['attribute_ids'].str.split(' ')):\n",
    "    train_dataset_info.append({\n",
    "        'path':os.path.join(path_to_train, name),\n",
    "        'labels':np.array([int(label) for label in labels])})\n",
    "train_dataset_info = np.array(train_dataset_info)"
   ]
  },
  {
   "cell_type": "code",
   "execution_count": 6,
   "metadata": {},
   "outputs": [
    {
     "name": "stdout",
     "output_type": "stream",
     "text": [
      "Collecting tqdm\n",
      "  Downloading https://files.pythonhosted.org/packages/45/af/685bf3ce889ea191f3b916557f5677cc95a5e87b2fa120d74b5dd6d049d0/tqdm-4.32.1-py2.py3-none-any.whl (49kB)\n",
      "Installing collected packages: tqdm\n",
      "Successfully installed tqdm-4.32.1\n"
     ]
    },
    {
     "name": "stderr",
     "output_type": "stream",
     "text": [
      "WARNING: You are using pip version 19.1, however version 19.1.1 is available.\n",
      "You should consider upgrading via the 'python -m pip install --upgrade pip' command.\n"
     ]
    }
   ],
   "source": [
    "!pip install tqdm"
   ]
  },
  {
   "cell_type": "code",
   "execution_count": 7,
   "metadata": {
    "_kg_hide-input": true
   },
   "outputs": [],
   "source": [
    "# https://www.kaggle.com/lopuhin/imet-2019-submission/output\n",
    "import argparse\n",
    "from collections import defaultdict, Counter\n",
    "import random\n",
    "\n",
    "import pandas as pd\n",
    "\n",
    "DATA_ROOT = '../data/input/imet-2019-fgvc6/'\n",
    "\n",
    "\n",
    "def make_folds(n_folds: int) -> pd.DataFrame:\n",
    "    df = pd.read_csv(DATA_ROOT+ 'train.csv')\n",
    "    cls_counts = Counter(cls for classes in df['attribute_ids'].str.split()\n",
    "                         for cls in classes)\n",
    "    #dictの型を先に宣言して初期化\n",
    "    fold_cls_counts = defaultdict(int)\n",
    "    folds = [-1] * len(df)\n",
    "    for item in tqdm(df.sample(frac=1, random_state=42).itertuples(),\n",
    "                          total=len(df)):\n",
    "        cls = min(item.attribute_ids.split(), key=lambda cls: cls_counts[cls])\n",
    "        fold_counts = [(f, fold_cls_counts[f, cls]) for f in range(n_folds)]\n",
    "        min_count = min([count for _, count in fold_counts])\n",
    "        random.seed(item.Index)\n",
    "        fold = random.choice([f for f, count in fold_counts\n",
    "                              if count == min_count])\n",
    "        folds[item.Index] = fold\n",
    "        for cls in item.attribute_ids.split():\n",
    "            fold_cls_counts[fold, cls] += 1\n",
    "    df['fold'] = folds\n",
    "    return df"
   ]
  },
  {
   "cell_type": "code",
   "execution_count": 8,
   "metadata": {},
   "outputs": [
    {
     "ename": "NameError",
     "evalue": "name 'tqdm' is not defined",
     "output_type": "error",
     "traceback": [
      "\u001b[1;31m---------------------------------------------------------------------------\u001b[0m",
      "\u001b[1;31mNameError\u001b[0m                                 Traceback (most recent call last)",
      "\u001b[1;32m<ipython-input-8-5ada52165697>\u001b[0m in \u001b[0;36m<module>\u001b[1;34m\u001b[0m\n\u001b[1;32m----> 1\u001b[1;33m \u001b[0mmake_folds\u001b[0m\u001b[1;33m(\u001b[0m\u001b[1;36m1\u001b[0m\u001b[1;33m)\u001b[0m\u001b[1;33m\u001b[0m\u001b[1;33m\u001b[0m\u001b[0m\n\u001b[0m",
      "\u001b[1;32m<ipython-input-7-5d773058c71b>\u001b[0m in \u001b[0;36mmake_folds\u001b[1;34m(n_folds)\u001b[0m\n\u001b[0;32m     15\u001b[0m     \u001b[0mfold_cls_counts\u001b[0m \u001b[1;33m=\u001b[0m \u001b[0mdefaultdict\u001b[0m\u001b[1;33m(\u001b[0m\u001b[0mint\u001b[0m\u001b[1;33m)\u001b[0m\u001b[1;33m\u001b[0m\u001b[1;33m\u001b[0m\u001b[0m\n\u001b[0;32m     16\u001b[0m     \u001b[0mfolds\u001b[0m \u001b[1;33m=\u001b[0m \u001b[1;33m[\u001b[0m\u001b[1;33m-\u001b[0m\u001b[1;36m1\u001b[0m\u001b[1;33m]\u001b[0m \u001b[1;33m*\u001b[0m \u001b[0mlen\u001b[0m\u001b[1;33m(\u001b[0m\u001b[0mdf\u001b[0m\u001b[1;33m)\u001b[0m\u001b[1;33m\u001b[0m\u001b[1;33m\u001b[0m\u001b[0m\n\u001b[1;32m---> 17\u001b[1;33m     for item in tqdm(df.sample(frac=1, random_state=42).itertuples(),\n\u001b[0m\u001b[0;32m     18\u001b[0m                           total=len(df)):\n\u001b[0;32m     19\u001b[0m         \u001b[0mcls\u001b[0m \u001b[1;33m=\u001b[0m \u001b[0mmin\u001b[0m\u001b[1;33m(\u001b[0m\u001b[0mitem\u001b[0m\u001b[1;33m.\u001b[0m\u001b[0mattribute_ids\u001b[0m\u001b[1;33m.\u001b[0m\u001b[0msplit\u001b[0m\u001b[1;33m(\u001b[0m\u001b[1;33m)\u001b[0m\u001b[1;33m,\u001b[0m \u001b[0mkey\u001b[0m\u001b[1;33m=\u001b[0m\u001b[1;32mlambda\u001b[0m \u001b[0mcls\u001b[0m\u001b[1;33m:\u001b[0m \u001b[0mcls_counts\u001b[0m\u001b[1;33m[\u001b[0m\u001b[0mcls\u001b[0m\u001b[1;33m]\u001b[0m\u001b[1;33m)\u001b[0m\u001b[1;33m\u001b[0m\u001b[1;33m\u001b[0m\u001b[0m\n",
      "\u001b[1;31mNameError\u001b[0m: name 'tqdm' is not defined"
     ]
    }
   ],
   "source": [
    "make_folds(1)"
   ]
  },
  {
   "cell_type": "code",
   "execution_count": 6,
   "metadata": {
    "_kg_hide-input": true
   },
   "outputs": [],
   "source": [
    "\n",
    "epsilon = K.epsilon()\n",
    "def focal_loss(y_true, y_pred):\n",
    "    pt = y_pred * y_true + (1-y_pred) * (1-y_true)\n",
    "    pt = K.clip(pt, epsilon, 1-epsilon)\n",
    "    CE = -K.log(pt)\n",
    "    FL = K.pow(1-pt, gamma) * CE\n",
    "    loss = K.sum(FL, axis=1)\n",
    "    return loss"
   ]
  },
  {
   "cell_type": "code",
   "execution_count": 7,
   "metadata": {},
   "outputs": [],
   "source": [
    "beta_f2=2\n",
    "\n",
    "# if gamma == 0.0:\n",
    "#     F2_THRESHOLD = 0.1\n",
    "# elif gamma == 1.0:\n",
    "#     F2_THRESHOLD = 0.2\n",
    "# else:\n",
    "#     F2_THRESHOLD = 0.3\n",
    "\n",
    "# print(F2_THRESHOLD)\n",
    "    \n",
    "def f2(y_true, y_pred):\n",
    "    #y_pred = K.round(y_pred)\n",
    "#     y_pred = K.cast(K.greater(K.clip(y_pred, 0, 1), F2_THRESHOLD), K.floatx())\n",
    "    tp = K.sum(K.cast(y_true*y_pred, 'float'), axis=1)\n",
    "    tn = K.sum(K.cast((1-y_true)*(1-y_pred), 'float'), axis=1)\n",
    "    fp = K.sum(K.cast((1-y_true)*y_pred, 'float'), axis=1)\n",
    "    fn = K.sum(K.cast(y_true*(1-y_pred), 'float'), axis=1)\n",
    "\n",
    "    p = tp / (tp + fp + K.epsilon())\n",
    "    r = tp / (tp + fn + K.epsilon())\n",
    "\n",
    "    f2 = (1+beta_f2**2)*p*r / (p*beta_f2**2 + r + K.epsilon())\n",
    "    f2 = tf.where(tf.is_nan(f2), tf.zeros_like(f2), f2)\n",
    "    return K.mean(f2)"
   ]
  },
  {
   "cell_type": "code",
   "execution_count": 8,
   "metadata": {},
   "outputs": [],
   "source": [
    "from keras.applications.resnet50 import preprocess_input\n",
    "\n",
    "class data_generator(Sequence):\n",
    "    \n",
    "    def create_train(dataset_info, batch_size, shape, augument=True):\n",
    "        assert shape[2] == 3\n",
    "        while True:\n",
    "            dataset_info = shuffle(dataset_info)\n",
    "            for start in range(0, len(dataset_info), batch_size):\n",
    "                end = min(start + batch_size, len(dataset_info))\n",
    "                batch_images = []\n",
    "                X_train_batch = dataset_info[start:end]\n",
    "                batch_labels = np.zeros((len(X_train_batch), NUM_CLASSES))\n",
    "                for i in range(len(X_train_batch)):\n",
    "                    image = data_generator.load_image(\n",
    "                        X_train_batch[i]['path'], shape)   \n",
    "                    if augument:\n",
    "                        image = data_generator.augment(image)\n",
    "                        \n",
    "#                     image = cv2.resize(image, (SIZE, SIZE)) # resize later\n",
    "                    batch_images.append(preprocess_input(image))\n",
    "                    batch_labels[i][X_train_batch[i]['labels']] = 1\n",
    "                    \n",
    "                yield np.array(batch_images, np.float32), batch_labels\n",
    "\n",
    "    def create_valid(dataset_info, batch_size, shape, augument=False):\n",
    "        assert shape[2] == 3\n",
    "        while True:\n",
    "            # dataset_info = shuffle(dataset_info)\n",
    "            for start in range(0, len(dataset_info), batch_size):\n",
    "                end = min(start + batch_size, len(dataset_info))\n",
    "                batch_images = []\n",
    "                X_train_batch = dataset_info[start:end]\n",
    "                batch_labels = np.zeros((len(X_train_batch), NUM_CLASSES))\n",
    "                for i in range(len(X_train_batch)):\n",
    "                    image = data_generator.load_image(\n",
    "                        X_train_batch[i]['path'], shape)   \n",
    "                    if augument:\n",
    "                        image = data_generator.augment(image)\n",
    "                        \n",
    "#                     image = cv2.resize(image, (SIZE, SIZE)) # resize later\n",
    "                    batch_images.append(preprocess_input(image))\n",
    "                    batch_labels[i][X_train_batch[i]['labels']] = 1\n",
    "                yield np.array(batch_images, np.float32), batch_labels\n",
    "\n",
    "\n",
    "    def load_image(path, shape):\n",
    "        image = cv2.imread(path+'.png')\n",
    "        image = cv2.resize(image, (SIZE, SIZE)) # resize later\n",
    "        return image\n",
    "\n",
    "    def augment(image):\n",
    "        augment_img = iaa.Sequential([\n",
    "            iaa.SomeOf((0,4),[\n",
    "#             iaa.OneOf([\n",
    "#                 iaa.Affine(rotate=0),\n",
    "#                 iaa.Affine(rotate=90),\n",
    "#                 iaa.Affine(rotate=180),\n",
    "#                 iaa.Affine(rotate=270),\n",
    "                iaa.Crop(percent=(0, 0.25)),\n",
    "                iaa.ContrastNormalization((0.8, 1.2)),\n",
    "                iaa.Multiply((0.9, 1.1), per_channel=0.2),\n",
    "                iaa.Fliplr(0.5),\n",
    "#                 iaa.GaussianBlur(sigma=(0, 0.6)),\n",
    "#                 iaa.Affine(\n",
    "#                         scale={\"x\": (0.9, 1.1), \"y\": (0.9, 1.1)},\n",
    "#                         translate_percent={\"x\": (-0.1, 0.1), \"y\": (-0.1, 0.1)},\n",
    "#                         rotate=(-180, 180),\n",
    "#                     )\n",
    "            ])], random_order=True)\n",
    "\n",
    "        image_aug = augment_img.augment_image(image)\n",
    "        return image_aug"
   ]
  },
  {
   "cell_type": "code",
   "execution_count": 9,
   "metadata": {},
   "outputs": [],
   "source": [
    "from keras.preprocessing.image import ImageDataGenerator\n",
    "from keras.models import Sequential, load_model\n",
    "from keras.layers import (Activation, Dropout, Flatten, Dense, GlobalMaxPooling2D,GlobalAveragePooling2D,\n",
    "                          BatchNormalization, Input, Conv2D, Concatenate)\n",
    "from keras.applications.resnet50 import ResNet50\n",
    "from keras.callbacks import ModelCheckpoint\n",
    "from keras import metrics\n",
    "from keras.optimizers import Adam \n",
    "from keras import backend as K\n",
    "import keras\n",
    "from keras.models import Model"
   ]
  },
  {
   "cell_type": "code",
   "execution_count": 10,
   "metadata": {
    "_kg_hide-input": true,
    "_kg_hide-output": true
   },
   "outputs": [],
   "source": [
    "from keras_applications import imagenet_utils as utils\n",
    "\n",
    "def ResNet(stack_fn,\n",
    "           preact,\n",
    "           use_bias,\n",
    "           model_name='resnet',\n",
    "           include_top=True,\n",
    "           weights='imagenet',\n",
    "           input_tensor=None,\n",
    "           input_shape=None,\n",
    "           pooling=None,\n",
    "           classes=1000,\n",
    "           **kwargs):\n",
    "    \"\"\"Instantiates the ResNet, ResNetV2, and ResNeXt architecture.\n",
    "    Optionally loads weights pre-trained on ImageNet.\n",
    "    Note that the data format convention used by the model is\n",
    "    the one specified in your Keras config at `~/.keras/keras.json`.\n",
    "    # Arguments\n",
    "        stack_fn: a function that returns output tensor for the\n",
    "            stacked residual blocks.\n",
    "        preact: whether to use pre-activation or not\n",
    "            (True for ResNetV2, False for ResNet and ResNeXt).\n",
    "        use_bias: whether to use biases for convolutional layers or not\n",
    "            (True for ResNet and ResNetV2, False for ResNeXt).\n",
    "        model_name: string, model name.\n",
    "        include_top: whether to include the fully-connected\n",
    "            layer at the top of the network.\n",
    "        weights: one of `None` (random initialization),\n",
    "              'imagenet' (pre-training on ImageNet),\n",
    "              or the path to the weights file to be loaded.\n",
    "        input_tensor: optional Keras tensor\n",
    "            (i.e. output of `layers.Input()`)\n",
    "            to use as image input for the model.\n",
    "        input_shape: optional shape tuple, only to be specified\n",
    "            if `include_top` is False (otherwise the input shape\n",
    "            has to be `(224, 224, 3)` (with `channels_last` data format)\n",
    "            or `(3, 224, 224)` (with `channels_first` data format).\n",
    "            It should have exactly 3 inputs channels.\n",
    "        pooling: optional pooling mode for feature extraction\n",
    "            when `include_top` is `False`.\n",
    "            - `None` means that the output of the model will be\n",
    "                the 4D tensor output of the\n",
    "                last convolutional layer.\n",
    "            - `avg` means that global average pooling\n",
    "                will be applied to the output of the\n",
    "                last convolutional layer, and thus\n",
    "                the output of the model will be a 2D tensor.\n",
    "            - `max` means that global max pooling will\n",
    "                be applied.\n",
    "        classes: optional number of classes to classify images\n",
    "            into, only to be specified if `include_top` is True, and\n",
    "            if no `weights` argument is specified.\n",
    "    # Returns\n",
    "        A Keras model instance.\n",
    "    # Raises\n",
    "        ValueError: in case of invalid argument for `weights`,\n",
    "            or invalid input shape.\n",
    "    \"\"\"\n",
    "    global backend, layers, models, keras_utils\n",
    "    # backend, layers, models, keras_utils = get_submodules_from_kwargs(kwargs)\n",
    "    backend, layers, models, keras_utils = keras.backend, keras.layers, keras.models, keras.utils\n",
    "\n",
    "    if not (weights in {'imagenet', None} or os.path.exists(weights)):\n",
    "        raise ValueError('The `weights` argument should be either '\n",
    "                         '`None` (random initialization), `imagenet` '\n",
    "                         '(pre-training on ImageNet), '\n",
    "                         'or the path to the weights file to be loaded.')\n",
    "\n",
    "    if weights == 'imagenet' and include_top and classes != 1000:\n",
    "        raise ValueError('If using `weights` as `\"imagenet\"` with `include_top`'\n",
    "                         ' as true, `classes` should be 1000')\n",
    "\n",
    "    # Determine proper input shape\n",
    "    input_shape = utils._obtain_input_shape(input_shape,\n",
    "                                          default_size=224,\n",
    "                                          min_size=32,\n",
    "                                          data_format=backend.image_data_format(),\n",
    "                                          require_flatten=include_top,\n",
    "                                          weights=weights)\n",
    "\n",
    "    if input_tensor is None:\n",
    "        img_input = layers.Input(shape=input_shape)\n",
    "    else:\n",
    "        if not backend.is_keras_tensor(input_tensor):\n",
    "            img_input = layers.Input(tensor=input_tensor, shape=input_shape)\n",
    "        else:\n",
    "            img_input = input_tensor\n",
    "\n",
    "    bn_axis = 3 if backend.image_data_format() == 'channels_last' else 1\n",
    "\n",
    "    x = layers.ZeroPadding2D(padding=((3, 3), (3, 3)), name='conv1_pad')(img_input)\n",
    "    x = layers.Conv2D(64, 7, strides=2, use_bias=use_bias, name='conv1_conv')(x)\n",
    "\n",
    "    if preact is False:\n",
    "        x = layers.BatchNormalization(axis=bn_axis, epsilon=1.001e-5,\n",
    "                                      name='conv1_bn')(x)\n",
    "        x = layers.Activation('relu', name='conv1_relu')(x)\n",
    "\n",
    "    x = layers.ZeroPadding2D(padding=((1, 1), (1, 1)), name='pool1_pad')(x)\n",
    "    x = layers.MaxPooling2D(3, strides=2, name='pool1_pool')(x)\n",
    "\n",
    "    x = stack_fn(x)\n",
    "\n",
    "    if preact is True:\n",
    "        x = layers.BatchNormalization(axis=bn_axis, epsilon=1.001e-5,\n",
    "                                      name='post_bn')(x)\n",
    "        x = layers.Activation('relu', name='post_relu')(x)\n",
    "\n",
    "    if include_top:\n",
    "        x = layers.GlobalAveragePooling2D(name='avg_pool')(x)\n",
    "        x = layers.Dense(classes, activation='softmax', name='probs')(x)\n",
    "    else:\n",
    "        if pooling == 'avg':\n",
    "            x = layers.GlobalAveragePooling2D(name='avg_pool')(x)\n",
    "        elif pooling == 'max':\n",
    "            x = layers.GlobalMaxPooling2D(name='max_pool')(x)\n",
    "\n",
    "    # Ensure that the model takes into account\n",
    "    # any potential predecessors of `input_tensor`.\n",
    "    if input_tensor is not None:\n",
    "        inputs = keras_utils.get_source_inputs(input_tensor)\n",
    "    else:\n",
    "        inputs = img_input\n",
    "\n",
    "    # Create model.\n",
    "    model = models.Model(inputs, x, name=model_name)\n",
    "\n",
    "    # Load weights.\n",
    "    if (weights == 'imagenet') and (model_name in WEIGHTS_HASHES):\n",
    "        if include_top:\n",
    "            file_name = model_name + '_weights_tf_dim_ordering_tf_kernels.h5'\n",
    "            file_hash = WEIGHTS_HASHES[model_name][0]\n",
    "        else:\n",
    "            file_name = model_name + '_weights_tf_dim_ordering_tf_kernels_notop.h5'\n",
    "            file_hash = WEIGHTS_HASHES[model_name][1]\n",
    "        weights_path = keras_utils.get_file(file_name,\n",
    "                                            BASE_WEIGHTS_PATH + file_name,\n",
    "                                            cache_subdir='models',\n",
    "                                            file_hash=file_hash)\n",
    "        model.load_weights(weights_path)\n",
    "    elif weights is not None:\n",
    "        model.load_weights(weights)\n",
    "\n",
    "    return model"
   ]
  },
  {
   "cell_type": "code",
   "execution_count": 11,
   "metadata": {
    "_kg_hide-input": true,
    "_kg_hide-output": true
   },
   "outputs": [],
   "source": [
    "from __future__ import absolute_import\n",
    "from __future__ import division\n",
    "from __future__ import print_function\n",
    "\n",
    "def block2(x, filters, kernel_size=3, stride=1,\n",
    "           conv_shortcut=False, name=None):\n",
    "    \"\"\"A residual block.\n",
    "    # Arguments\n",
    "        x: input tensor.\n",
    "        filters: integer, filters of the bottleneck layer.\n",
    "        kernel_size: default 3, kernel size of the bottleneck layer.\n",
    "        stride: default 1, stride of the first layer.\n",
    "        conv_shortcut: default False, use convolution shortcut if True,\n",
    "            otherwise identity shortcut.\n",
    "        name: string, block label.\n",
    "    # Returns\n",
    "        Output tensor for the residual block.\n",
    "    \"\"\"\n",
    "    bn_axis = 3 if backend.image_data_format() == 'channels_last' else 1\n",
    "\n",
    "    preact = layers.BatchNormalization(axis=bn_axis, epsilon=1.001e-5,\n",
    "                                       name=name + '_preact_bn')(x)\n",
    "    preact = layers.Activation('relu', name=name + '_preact_relu')(preact)\n",
    "\n",
    "    if conv_shortcut is True:\n",
    "        shortcut = layers.Conv2D(4 * filters, 1, strides=stride,\n",
    "                                 name=name + '_0_conv')(preact)\n",
    "    else:\n",
    "        shortcut = layers.MaxPooling2D(1, strides=stride)(x) if stride > 1 else x\n",
    "\n",
    "    x = layers.Conv2D(filters, 1, strides=1, use_bias=False,\n",
    "                      name=name + '_1_conv')(preact)\n",
    "    x = layers.BatchNormalization(axis=bn_axis, epsilon=1.001e-5,\n",
    "                                  name=name + '_1_bn')(x)\n",
    "    x = layers.Activation('relu', name=name + '_1_relu')(x)\n",
    "\n",
    "    x = layers.ZeroPadding2D(padding=((1, 1), (1, 1)), name=name + '_2_pad')(x)\n",
    "    x = layers.Conv2D(filters, kernel_size, strides=stride,\n",
    "                      use_bias=False, name=name + '_2_conv')(x)\n",
    "    x = layers.BatchNormalization(axis=bn_axis, epsilon=1.001e-5,\n",
    "                                  name=name + '_2_bn')(x)\n",
    "    x = layers.Activation('relu', name=name + '_2_relu')(x)\n",
    "\n",
    "    x = layers.Conv2D(4 * filters, 1, name=name + '_3_conv')(x)\n",
    "    x = layers.Add(name=name + '_out')([shortcut, x])\n",
    "    return x\n",
    "\n",
    "\n",
    "def stack2(x, filters, blocks, stride1=2, name=None):\n",
    "    \"\"\"A set of stacked residual blocks.\n",
    "    # Arguments\n",
    "        x: input tensor.\n",
    "        filters: integer, filters of the bottleneck layer in a block.\n",
    "        blocks: integer, blocks in the stacked blocks.\n",
    "        stride1: default 2, stride of the first layer in the first block.\n",
    "        name: string, stack label.\n",
    "    # Returns\n",
    "        Output tensor for the stacked blocks.\n",
    "    \"\"\"\n",
    "    x = block2(x, filters, conv_shortcut=True, name=name + '_block1')\n",
    "    for i in range(2, blocks):\n",
    "        x = block2(x, filters, name=name + '_block' + str(i))\n",
    "    x = block2(x, filters, stride=stride1, name=name + '_block' + str(blocks))\n",
    "    return x\n",
    "\n",
    "def ResNet50V2(include_top=True,\n",
    "               weights='imagenet',\n",
    "               input_tensor=None,\n",
    "               input_shape=None,\n",
    "               pooling=None,\n",
    "               classes=1000,\n",
    "               **kwargs):\n",
    "    def stack_fn(x):\n",
    "        x = stack2(x, 64, 3, name='conv2')\n",
    "        x = stack2(x, 128, 4, name='conv3')\n",
    "        x = stack2(x, 256, 6, name='conv4')\n",
    "        x = stack2(x, 512, 3, stride1=1, name='conv5')\n",
    "        return x\n",
    "    return ResNet(stack_fn, True, True, 'resnet50v2',\n",
    "                  include_top, weights,\n",
    "                  input_tensor, input_shape,\n",
    "                  pooling, classes,\n",
    "                  **kwargs)"
   ]
  },
  {
   "cell_type": "code",
   "execution_count": 12,
   "metadata": {},
   "outputs": [
    {
     "name": "stdout",
     "output_type": "stream",
     "text": [
      "NASNet-large.h5\n",
      "NASNet-mobile.h5\n",
      "densenet121_weights_tf_dim_ordering_tf_kernels_notop.h5\n",
      "densenet169_weights_tf_dim_ordering_tf_kernels_notop.h5\n",
      "densenet201_weights_tf_dim_ordering_tf_kernels_notop.h5\n",
      "mobilenet_1_0_224_tf_no_top.h5\n",
      "mobilenet_v2_weights_tf_dim_ordering_tf_kernels_1.0_224_no_top.h5\n",
      "resnet101_weights_tf_dim_ordering_tf_kernels_notop.h5\n",
      "resnet101v2_weights_tf_dim_ordering_tf_kernels_notop.h5\n",
      "resnet152_weights_tf_dim_ordering_tf_kernels_notop.h5\n",
      "resnet152v2_weights_tf_dim_ordering_tf_kernels_notop.h5\n",
      "resnet50v2_weights_tf_dim_ordering_tf_kernels_notop.h5\n",
      "resnext101_weights_tf_dim_ordering_tf_kernels_notop.h5\n",
      "resnext50_weights_tf_dim_ordering_tf_kernels_notop.h5\n"
     ]
    }
   ],
   "source": [
    "!ls ../input/keras-pretrain-model-weights"
   ]
  },
  {
   "cell_type": "code",
   "execution_count": 13,
   "metadata": {},
   "outputs": [
    {
     "name": "stdout",
     "output_type": "stream",
     "text": [
      "imagenet_class_index.json\n",
      "resnet50_weights_tf_dim_ordering_tf_kernels.h5\n",
      "resnet50_weights_tf_dim_ordering_tf_kernels_notop.h5\n"
     ]
    }
   ],
   "source": [
    "!ls ../input/resnet50"
   ]
  },
  {
   "cell_type": "code",
   "execution_count": 14,
   "metadata": {},
   "outputs": [],
   "source": [
    "from keras.applications.resnet50 import ResNet50\n",
    "\n",
    "\n",
    "# pretrained model is of 3 channels\n",
    "def create_model_resnet50(n_out=NUM_CLASSES):\n",
    "    print(RESNET_VER)\n",
    "    if RESNET_VER == 1:\n",
    "        base_model =ResNet50(weights=None, include_top=False)\n",
    "        base_model.load_weights('../input/resnet50/resnet50_weights_tf_dim_ordering_tf_kernels_notop.h5')\n",
    "    else:\n",
    "        base_model =ResNet50V2(weights=None, include_top=False)\n",
    "        base_model.load_weights('../input/keras-pretrain-model-weights/resnet50v2_weights_tf_dim_ordering_tf_kernels_notop.h5')\n",
    "    \n",
    "    x0 = base_model.output\n",
    "    x1 = GlobalAveragePooling2D()(x0)\n",
    "    x2 = GlobalMaxPooling2D()(x0)\n",
    "    x = Concatenate()([x1,x2])\n",
    "    \n",
    "    x = BatchNormalization()(x)\n",
    "#     x = Dropout(0.5)(x)\n",
    "    x = Dense(1024, activation='relu')(x)\n",
    "    x = BatchNormalization()(x)\n",
    "    x = Dropout(0.5)(x)\n",
    "    x = Dense(512, activation='relu')(x)\n",
    "    x = BatchNormalization()(x)\n",
    "    x = Dropout(0.5)(x)\n",
    "\n",
    "    predictions = Dense(n_out, activation='sigmoid')(x)\n",
    "\n",
    "    # this is the model we will train\n",
    "    model = Model(inputs=base_model.input, outputs=predictions)\n",
    "    return model"
   ]
  },
  {
   "cell_type": "code",
   "execution_count": 16,
   "metadata": {},
   "outputs": [],
   "source": [
    "# create callbacks list\n",
    "from keras.callbacks import (ModelCheckpoint, LearningRateScheduler,\n",
    "                             EarlyStopping, ReduceLROnPlateau,CSVLogger)\n",
    "                             \n",
    "from sklearn.model_selection import train_test_split\n",
    "\n",
    "checkpoint = ModelCheckpoint(checkpoint_file, monitor='val_loss', verbose=1, \n",
    "                             save_best_only=True, mode='min', save_weights_only = False)\n",
    "\n",
    "reduceLROnPlat = ReduceLROnPlateau(monitor='val_loss', factor=LR_FACTOR, patience=PATIENCE, \n",
    "                                   verbose=1, mode='auto', min_delta=0.0001, cooldown=0, min_lr=1e-5)\n",
    "\n",
    "csv_logger = CSVLogger(filename='../working/training_log.csv',\n",
    "                       separator=',',\n",
    "                       append=True)\n",
    "\n",
    "\n",
    "# split data into train, valid\n",
    "indexes = np.arange(train_dataset_info.shape[0])\n",
    "train_indexes, valid_indexes = train_test_split(indexes, test_size=SPLIT_RATIO, random_state=8)\n",
    "\n",
    "# create train and valid datagens\n",
    "train_generator = data_generator.create_train(\n",
    "    train_dataset_info[train_indexes], batch_size, (SIZE,SIZE,3), augument=True)\n",
    "train_generator_warmup = data_generator.create_train(\n",
    "    train_dataset_info[train_indexes], batch_size, (SIZE,SIZE,3), augument=False)\n",
    "validation_generator = data_generator.create_valid(\n",
    "    train_dataset_info[valid_indexes], batch_size, (SIZE,SIZE,3), augument=False)\n",
    "\n",
    "# callbacks_list = [checkpoint, csv_logger, lrsched]\n",
    "callbacks_list = [checkpoint, csv_logger, reduceLROnPlat]"
   ]
  },
  {
   "cell_type": "code",
   "execution_count": 17,
   "metadata": {},
   "outputs": [
    {
     "name": "stdout",
     "output_type": "stream",
     "text": [
      "1118.0\n",
      "125.0\n",
      "98313 88\n"
     ]
    }
   ],
   "source": [
    "print(np.ceil(float(len(train_indexes)) / float(batch_size)))\n",
    "print(np.ceil(float(len(valid_indexes)) / float(batch_size)))\n",
    "print(len(train_indexes), batch_size)"
   ]
  },
  {
   "cell_type": "code",
   "execution_count": 18,
   "metadata": {
    "_kg_hide-input": false
   },
   "outputs": [
    {
     "name": "stdout",
     "output_type": "stream",
     "text": [
      "WARNING:tensorflow:From /opt/conda/lib/python3.6/site-packages/tensorflow/python/ops/math_ops.py:3066: to_int32 (from tensorflow.python.ops.math_ops) is deprecated and will be removed in a future version.\n",
      "Instructions for updating:\n",
      "Use tf.cast instead.\n",
      "Epoch 1/1\n",
      "1118/1118 [==============================] - 658s 589ms/step - loss: 0.0753 - acc: 0.9691 - f2: 0.0704\n"
     ]
    },
    {
     "data": {
      "text/plain": [
       "<keras.callbacks.History at 0x7f0cb73853c8>"
      ]
     },
     "execution_count": 18,
     "metadata": {},
     "output_type": "execute_result"
    }
   ],
   "source": [
    "\n",
    "# %%script false\n",
    "model.fit_generator(\n",
    "    train_generator_warmup,\n",
    "    steps_per_epoch=np.ceil(float(len(train_indexes)) / float(batch_size)),\n",
    "    epochs=1,\n",
    "    max_queue_size=16, workers=WORKERS, use_multiprocessing=True,\n",
    "    verbose=1)"
   ]
  },
  {
   "cell_type": "code",
   "execution_count": 19,
   "metadata": {},
   "outputs": [
    {
     "name": "stdout",
     "output_type": "stream",
     "text": [
      "0.001\n"
     ]
    }
   ],
   "source": [
    "print(K.eval(model.optimizer.lr))"
   ]
  },
  {
   "cell_type": "code",
   "execution_count": 20,
   "metadata": {},
   "outputs": [
    {
     "name": "stdout",
     "output_type": "stream",
     "text": [
      "WARNING:tensorflow:From /opt/conda/lib/python3.6/site-packages/tensorflow/python/ops/math_grad.py:102: div (from tensorflow.python.ops.math_ops) is deprecated and will be removed in a future version.\n",
      "Instructions for updating:\n",
      "Deprecated in favor of operator or tf.math.divide.\n",
      "Epoch 1/27\n",
      "1118/1118 [==============================] - 967s 865ms/step - loss: 14.6606 - acc: 0.1078 - f2: 0.1096 - val_loss: 14.5705 - val_acc: 0.0800 - val_f2: 0.0695\n",
      "\n",
      "Epoch 00001: val_loss improved from inf to 14.57047, saving model to ../working/resnet50_focal.h5\n",
      "Epoch 2/27\n",
      "1118/1118 [==============================] - 934s 835ms/step - loss: 14.7307 - acc: 0.1081 - f2: 0.1010 - val_loss: 14.6858 - val_acc: 0.0822 - val_f2: 0.0789\n",
      "\n",
      "Epoch 00002: val_loss did not improve from 14.57047\n",
      "Epoch 3/27\n",
      "1118/1118 [==============================] - 948s 848ms/step - loss: 14.0005 - acc: 0.1257 - f2: 0.1209 - val_loss: 16.8826 - val_acc: 0.1239 - val_f2: 0.1135\n",
      "\n",
      "Epoch 00003: val_loss did not improve from 14.57047\n",
      "\n",
      "Epoch 00003: ReduceLROnPlateau reducing learning rate to 0.00010000000474974513.\n",
      "Epoch 4/27\n",
      "1118/1118 [==============================] - 943s 843ms/step - loss: 13.1634 - acc: 0.1520 - f2: 0.1475 - val_loss: 12.3088 - val_acc: 0.1755 - val_f2: 0.1627\n",
      "\n",
      "Epoch 00004: val_loss improved from 14.57047 to 12.30879, saving model to ../working/resnet50_focal.h5\n",
      "Epoch 5/27\n",
      "1118/1118 [==============================] - 947s 847ms/step - loss: 12.8908 - acc: 0.1638 - f2: 0.1577 - val_loss: 12.0350 - val_acc: 0.1828 - val_f2: 0.1699\n",
      "\n",
      "Epoch 00005: val_loss improved from 12.30879 to 12.03499, saving model to ../working/resnet50_focal.h5\n",
      "Epoch 6/27\n",
      "1118/1118 [==============================] - 951s 850ms/step - loss: 12.7834 - acc: 0.1675 - f2: 0.1631 - val_loss: 11.7357 - val_acc: 0.1940 - val_f2: 0.1805\n",
      "\n",
      "Epoch 00006: val_loss improved from 12.03499 to 11.73573, saving model to ../working/resnet50_focal.h5\n",
      "Epoch 7/27\n",
      "1118/1118 [==============================] - 948s 848ms/step - loss: 12.5078 - acc: 0.1770 - f2: 0.1739 - val_loss: 12.5871 - val_acc: 0.1914 - val_f2: 0.1815\n",
      "\n",
      "Epoch 00007: val_loss did not improve from 11.73573\n",
      "Epoch 8/27\n",
      "1118/1118 [==============================] - 940s 841ms/step - loss: 12.4401 - acc: 0.1785 - f2: 0.1805 - val_loss: 12.8816 - val_acc: 0.1866 - val_f2: 0.1874\n",
      "\n",
      "Epoch 00008: val_loss did not improve from 11.73573\n",
      "\n",
      "Epoch 00008: ReduceLROnPlateau reducing learning rate to 2.0000000949949027e-05.\n",
      "Epoch 9/27\n",
      "1118/1118 [==============================] - 930s 832ms/step - loss: 12.1245 - acc: 0.1869 - f2: 0.1906 - val_loss: 11.4916 - val_acc: 0.2055 - val_f2: 0.2072\n",
      "\n",
      "Epoch 00009: val_loss improved from 11.73573 to 11.49162, saving model to ../working/resnet50_focal.h5\n",
      "Epoch 10/27\n",
      "1118/1118 [==============================] - 920s 823ms/step - loss: 12.1065 - acc: 0.1899 - f2: 0.1943 - val_loss: 11.4490 - val_acc: 0.2010 - val_f2: 0.2113\n",
      "\n",
      "Epoch 00010: val_loss improved from 11.49162 to 11.44899, saving model to ../working/resnet50_focal.h5\n",
      "Epoch 11/27\n",
      "  93/1118 [=>............................] - ETA: 12:14 - loss: 11.9237 - acc: 0.1876 - f2: 0.1946"
     ]
    }
   ],
   "source": [
    "\n",
    "for layer in model.layers:\n",
    "    layer.trainable = True\n",
    "\n",
    "model.compile(# loss='binary_crossentropy',\n",
    "            loss=focal_loss,\n",
    "            optimizer=Adam(lr=LR),\n",
    "            metrics=['acc',f2])\n",
    "\n",
    "hist = model.fit_generator(\n",
    "    train_generator,\n",
    "    steps_per_epoch=np.ceil(float(len(train_indexes)) / float(batch_size)),\n",
    "    validation_data=validation_generator,\n",
    "    validation_steps=np.ceil(float(len(valid_indexes)) / float(batch_size)),\n",
    "    epochs=epochs,\n",
    "    verbose=1,\n",
    "    max_queue_size=16, workers=WORKERS, use_multiprocessing=True,\n",
    "    callbacks=callbacks_list)"
   ]
  },
  {
   "cell_type": "code",
   "execution_count": 21,
   "metadata": {},
   "outputs": [
    {
     "data": {
      "text/plain": [
       "<matplotlib.legend.Legend at 0x7f088411eb00>"
      ]
     },
     "execution_count": 21,
     "metadata": {},
     "output_type": "execute_result"
    },
    {
     "data": {
      "image/png": "[encoded data removed]",
      "text/plain": [
       "<Figure size 1080x360 with 2 Axes>"
      ]
     },
     "metadata": {},
     "output_type": "display_data"
    }
   ],
   "source": [
    "fig, ax = plt.subplots(1, 2, figsize=(15,5))\n",
    "ax[0].set_title('loss')\n",
    "ax[0].plot(hist.epoch, hist.history[\"loss\"], label=\"Train loss\")\n",
    "ax[0].plot(hist.epoch, hist.history[\"val_loss\"], label=\"Validation loss\")\n",
    "ax[1].set_title('f2')\n",
    "ax[1].plot(hist.epoch, hist.history[\"f2\"], label=\"Train F2\")\n",
    "ax[1].plot(hist.epoch, hist.history[\"val_f2\"], label=\"Validation F2\")\n",
    "ax[0].legend()\n",
    "ax[1].legend()"
   ]
  },
  {
   "cell_type": "code",
   "execution_count": 22,
   "metadata": {},
   "outputs": [
    {
     "name": "stdout",
     "output_type": "stream",
     "text": [
      "1e-05\n"
     ]
    }
   ],
   "source": [
    "print(K.eval(model.optimizer.lr))"
   ]
  },
  {
   "cell_type": "code",
   "execution_count": 23,
   "metadata": {},
   "outputs": [
    {
     "name": "stdout",
     "output_type": "stream",
     "text": [
      "['training_log.csv', '__notebook__.ipynb', '__output__.json', 'resnet50_focal.h5']\n"
     ]
    }
   ],
   "source": [
    "print(os.listdir('../working/'))\n",
    "model.load_weights(checkpoint_file)"
   ]
  },
  {
   "cell_type": "code",
   "execution_count": 24,
   "metadata": {},
   "outputs": [
    {
     "name": "stderr",
     "output_type": "stream",
     "text": [
      "  0%|          | 0/43 [00:00<?, ?it/s]"
     ]
    },
    {
     "name": "stdout",
     "output_type": "stream",
     "text": [
      "42\n"
     ]
    },
    {
     "name": "stderr",
     "output_type": "stream",
     "text": [
      "100%|██████████| 43/43 [03:09<00:00,  4.59s/it]"
     ]
    },
    {
     "name": "stdout",
     "output_type": "stream",
     "text": [
      "(21676, 1103) (21676, 1103)\n"
     ]
    },
    {
     "name": "stderr",
     "output_type": "stream",
     "text": [
      "\n"
     ]
    }
   ],
   "source": [
    "'''Search for the best threshold regarding the validation set'''\n",
    "\n",
    "BATCH = 512\n",
    "fullValGen = data_generator.create_valid(\n",
    "    train_dataset_info[valid_indexes], BATCH, (SIZE,SIZE,3))\n",
    "\n",
    "n_val = round(train_dataset_info.shape[0]*0.2)//BATCH\n",
    "print(n_val)\n",
    "\n",
    "lastFullValPred = np.empty((0, NUM_CLASSES))\n",
    "lastFullValLabels = np.empty((0, NUM_CLASSES))\n",
    "for i in tqdm(range(n_val+1)): \n",
    "    im, lbl = next(fullValGen)\n",
    "    scores = model.predict(im)\n",
    "    lastFullValPred = np.append(lastFullValPred, scores, axis=0)\n",
    "    lastFullValLabels = np.append(lastFullValLabels, lbl, axis=0)\n",
    "print(lastFullValPred.shape, lastFullValLabels.shape)"
   ]
  },
  {
   "cell_type": "code",
   "execution_count": 25,
   "metadata": {},
   "outputs": [],
   "source": [
    "def my_f2(y_true, y_pred):\n",
    "    assert y_true.shape[0] == y_pred.shape[0]\n",
    "\n",
    "    tp = np.sum((y_true == 1) & (y_pred == 1),axis=1)\n",
    "    tn = np.sum((y_true == 0) & (y_pred == 0),axis=1)\n",
    "    fp = np.sum((y_true == 0) & (y_pred == 1),axis=1)\n",
    "    fn = np.sum((y_true == 1) & (y_pred == 0),axis=1)\n",
    "    \n",
    "    p = tp / (tp + fp + K.epsilon())\n",
    "    r = tp / (tp + fn + K.epsilon())\n",
    "\n",
    "    f2 = (1+beta_f2**2)*p*r / (p*beta_f2**2 + r + 1e-15)\n",
    "\n",
    "    return np.mean(f2)\n",
    "\n",
    "def find_best_fixed_threshold(preds, targs, do_plot=True):\n",
    "    score = []\n",
    "    thrs = np.arange(0, 0.5, 0.01)\n",
    "    for thr in tqdm(thrs):\n",
    "        score.append(my_f2(targs, (preds > thr).astype(int) ))\n",
    "    score = np.array(score)\n",
    "    pm = score.argmax()\n",
    "    best_thr, best_score = thrs[pm], score[pm].item()\n",
    "    print(f'thr={best_thr:.3f}', f'F2={best_score:.3f}')\n",
    "    if do_plot:\n",
    "        plt.plot(thrs, score)\n",
    "        plt.vlines(x=best_thr, ymin=score.min(), ymax=score.max())\n",
    "        plt.text(best_thr+0.03, best_score-0.01, f'$F_{2}=${best_score:.3f}', fontsize=14);\n",
    "        plt.show()\n",
    "    return best_thr, best_score"
   ]
  },
  {
   "cell_type": "code",
   "execution_count": 26,
   "metadata": {},
   "outputs": [
    {
     "name": "stderr",
     "output_type": "stream",
     "text": [
      "100%|██████████| 50/50 [00:21<00:00,  2.40it/s]\n"
     ]
    },
    {
     "name": "stdout",
     "output_type": "stream",
     "text": [
      "thr=0.080 F2=0.457\n"
     ]
    },
    {
     "data": {
      "image/png": "[encoded data removed]",
      "text/plain": [
       "<Figure size 432x288 with 1 Axes>"
      ]
     },
     "metadata": {},
     "output_type": "display_data"
    }
   ],
   "source": [
    "best_thr, best_score = find_best_fixed_threshold(lastFullValPred, lastFullValLabels, do_plot=True)"
   ]
  },
  {
   "cell_type": "code",
   "execution_count": 27,
   "metadata": {},
   "outputs": [
    {
     "name": "stderr",
     "output_type": "stream",
     "text": [
      "7443it [02:13, 55.68it/s]\n"
     ]
    }
   ],
   "source": [
    "submit = pd.read_csv('../input/imet-2019-fgvc6/sample_submission.csv')\n",
    "predicted = []\n",
    "\n",
    "for i, name in tqdm(enumerate(submit['id'])):\n",
    "    path = os.path.join('../input/imet-2019-fgvc6/test/', name)\n",
    "    image = data_generator.load_image(path, (SIZE,SIZE,3))\n",
    "    score_predict = model.predict(preprocess_input(image[np.newaxis]))\n",
    "    # print(score_predict)\n",
    "    label_predict = np.arange(NUM_CLASSES)[score_predict[0]>=best_thr]\n",
    "    # print(label_predict)\n",
    "    str_predict_label = ' '.join(str(l) for l in label_predict)\n",
    "    predicted.append(str_predict_label)"
   ]
  },
  {
   "cell_type": "code",
   "execution_count": 28,
   "metadata": {},
   "outputs": [],
   "source": [
    "submit['attribute_ids'] = predicted\n",
    "if POST_PROCESS:\n",
    "    submit.to_csv('submission_not_process.csv', index=False)\n",
    "else:\n",
    "    submit.to_csv('submission.csv', index=False)"
   ]
  },
  {
   "cell_type": "code",
   "execution_count": 29,
   "metadata": {},
   "outputs": [
    {
     "data": {
      "image/png": "[encoded data removed]",
      "text/plain": [
       "<Figure size 432x288 with 1 Axes>"
      ]
     },
     "metadata": {},
     "output_type": "display_data"
    }
   ],
   "source": [
    "submit2 = submit.copy()\n",
    "submit2.n_cate = submit.attribute_ids.apply(lambda x: len(x.split(\" \")))\n",
    "_ = submit2.n_cate.value_counts().sort_index().plot.bar()"
   ]
  },
  {
   "cell_type": "code",
   "execution_count": 30,
   "metadata": {},
   "outputs": [
    {
     "name": "stdout",
     "output_type": "stream",
     "text": [
      "0\n",
      "26\n",
      "1094\n",
      "1094\n"
     ]
    }
   ],
   "source": [
    "id_rare = set([199,81,221,230,366,11,104,396,262,805,112,146,281,\n",
    "               293,328,987,71,271,201,240,108,142,389,904,312,187])\n",
    "\n",
    "id_bool = (lastFullValPred[0] > 2) # all False\n",
    "print(sum(id_bool))\n",
    "for ii in id_rare:\n",
    "    id_bool[ii] = True\n",
    "print(sum(id_bool))\n",
    "\n",
    "lastFullValPred2 = lastFullValPred.copy()\n",
    "\n",
    "lastFullValPred2[0][id_bool] = 0\n",
    "thresh = np.percentile(lastFullValPred2[0],99.2)\n",
    "print(sum(lastFullValPred2[0] < thresh))\n",
    "lastFullValPred2[0][lastFullValPred2[0] < thresh] = 0\n",
    "print(sum(lastFullValPred2[0] == 0))"
   ]
  },
  {
   "cell_type": "code",
   "execution_count": 31,
   "metadata": {},
   "outputs": [
    {
     "name": "stdout",
     "output_type": "stream",
     "text": [
      "(1103,) (1103,)\n"
     ]
    },
    {
     "name": "stderr",
     "output_type": "stream",
     "text": [
      "100%|██████████| 21676/21676 [00:02<00:00, 8194.09it/s]\n"
     ]
    }
   ],
   "source": [
    "print(lastFullValPred2[0].shape, (lastFullValPred2[i] < 0.1).shape)\n",
    "lastFullValPred2 = lastFullValPred.copy()\n",
    "for i in tqdm(range(len(lastFullValPred2))):\n",
    "    lastFullValPred2[i][id_bool] = 0\n",
    "    thresh = np.percentile(lastFullValPred2[i],99.2)\n",
    "    lastFullValPred2[i][lastFullValPred2[i] < thresh] = 0"
   ]
  },
  {
   "cell_type": "code",
   "execution_count": 32,
   "metadata": {},
   "outputs": [
    {
     "name": "stderr",
     "output_type": "stream",
     "text": [
      "100%|██████████| 50/50 [00:21<00:00,  2.39it/s]"
     ]
    },
    {
     "name": "stdout",
     "output_type": "stream",
     "text": [
      "thr=0.080 F2=0.457\n"
     ]
    },
    {
     "name": "stderr",
     "output_type": "stream",
     "text": [
      "\n"
     ]
    },
    {
     "data": {
      "image/png": "[encoded data removed]",
      "text/plain": [
       "<Figure size 432x288 with 1 Axes>"
      ]
     },
     "metadata": {},
     "output_type": "display_data"
    }
   ],
   "source": [
    "best_thr, best_score = find_best_fixed_threshold(lastFullValPred2, lastFullValLabels, do_plot=True)"
   ]
  },
  {
   "cell_type": "code",
   "execution_count": 33,
   "metadata": {},
   "outputs": [
    {
     "name": "stderr",
     "output_type": "stream",
     "text": [
      "7443it [02:06, 58.78it/s]"
     ]
    },
    {
     "name": "stdout",
     "output_type": "stream",
     "text": [
      "CPU times: user 1min 29s, sys: 35.7 s, total: 2min 5s\n",
      "Wall time: 2min 6s\n"
     ]
    },
    {
     "name": "stderr",
     "output_type": "stream",
     "text": [
      "\n"
     ]
    }
   ],
   "source": [
    "%%time\n",
    "submit = pd.read_csv('../input/imet-2019-fgvc6/sample_submission.csv')\n",
    "predicted_post = []\n",
    "\n",
    "for i, name in tqdm(enumerate(submit['id'])):\n",
    "    path = os.path.join('../input/imet-2019-fgvc6/test/', name)\n",
    "    image = data_generator.load_image(path, (SIZE,SIZE,3))\n",
    "    score_predict = model.predict(preprocess_input(image[np.newaxis]))\n",
    "    \n",
    "    thresh = np.percentile(score_predict,99.2)\n",
    "    score_predict[score_predict < thresh] = 0\n",
    "    \n",
    "    \n",
    "    # print(score_predict)\n",
    "    label_predict = np.arange(NUM_CLASSES)[score_predict[0]>=best_thr]\n",
    "    # print(label_predict)\n",
    "    str_predict_label = ' '.join(str(l) for l in label_predict)\n",
    "    predicted_post.append(str_predict_label)"
   ]
  },
  {
   "cell_type": "code",
   "execution_count": 34,
   "metadata": {},
   "outputs": [
    {
     "data": {
      "image/png": "[encoded data removed]",
      "text/plain": [
       "<Figure size 432x288 with 1 Axes>"
      ]
     },
     "metadata": {},
     "output_type": "display_data"
    }
   ],
   "source": [
    "submit['attribute_ids'] = predicted_post\n",
    "if POST_PROCESS:\n",
    "    submit.to_csv('submission.csv', index=False)\n",
    "else:\n",
    "    submit.to_csv('submission_post_process.csv', index=False)\n",
    "\n",
    "submit2 = submit.copy()\n",
    "submit2.n_cate = submit.attribute_ids.apply(lambda x: len(x.split(\" \")))\n",
    "_ = submit2.n_cate.value_counts().sort_index().plot.bar()"
   ]
  }
 ],
 "metadata": {
  "kernelspec": {
   "display_name": "Python 3",
   "language": "python",
   "name": "python3"
  },
  "language_info": {
   "codemirror_mode": {
    "name": "ipython",
    "version": 3
   },
   "file_extension": ".py",
   "mimetype": "text/x-python",
   "name": "python",
   "nbconvert_exporter": "python",
   "pygments_lexer": "ipython3",
   "version": "3.6.8"
  }
 },
 "nbformat": 4,
 "nbformat_minor": 2
}

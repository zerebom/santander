{
 "cells": [
  {
   "cell_type": "code",
   "execution_count": null,
   "metadata": {},
   "outputs": [],
   "source": [
    "# !pip install lightgbm\n",
    "!pip install tqdm"
   ]
  },
  {
   "cell_type": "code",
   "execution_count": null,
   "metadata": {},
   "outputs": [],
   "source": [
    "import gc\n",
    "import os\n",
    "import logging\n",
    "import datetime\n",
    "import warnings\n",
    "import numpy as np\n",
    "import pandas as pd\n",
    "import seaborn as sns\n",
    "import lightgbm as lgb\n",
    "from tqdm import tqdm_notebook\n",
    "import matplotlib.pyplot as plt\n",
    "from sklearn.metrics import mean_squared_error\n",
    "from sklearn.metrics import roc_auc_score, roc_curve\n",
    "from sklearn.model_selection import StratifiedKFold\n",
    "warnings.filterwarnings('ignore')"
   ]
  },
  {
   "cell_type": "code",
   "execution_count": null,
   "metadata": {},
   "outputs": [],
   "source": [
    "import feather as ftr\n",
    "\n",
    "train = ftr.read_dataframe(\"../data/input/train.feather\")\n",
    "test = ftr.read_dataframe(\"../data/input/test.feather\")"
   ]
  },
  {
   "cell_type": "code",
   "execution_count": null,
   "metadata": {},
   "outputs": [],
   "source": [
    "train.head()"
   ]
  },
  {
   "cell_type": "code",
   "execution_count": null,
   "metadata": {},
   "outputs": [],
   "source": [
    "def missing_data(data):\n",
    "    total = data.isnull().sum()\n",
    "    percent = (data.isnull().sum()/data.isnull().count()*100)\n",
    "    tt = pd.concat([total, percent], axis=1, keys=['Total', 'Percent'])\n",
    "    types = []\n",
    "    for col in data.columns:\n",
    "        dtype = str(data[col].dtype)\n",
    "        types.append(dtype)\n",
    "    tt['Types'] = types\n",
    "    #行列を入れ替える\n",
    "    return(np.transpose(tt))"
   ]
  },
  {
   "cell_type": "code",
   "execution_count": null,
   "metadata": {},
   "outputs": [],
   "source": [
    "%%time\n",
    "missing_data(train)"
   ]
  },
  {
   "cell_type": "code",
   "execution_count": null,
   "metadata": {},
   "outputs": [],
   "source": [
    "%%time\n",
    "train.describe()"
   ]
  },
  {
   "cell_type": "code",
   "execution_count": null,
   "metadata": {},
   "outputs": [],
   "source": [
    "%%time\n",
    "test.describe()"
   ]
  },
  {
   "cell_type": "markdown",
   "metadata": {},
   "source": [
    "\n",
    "- 標準偏差はtrain,testどちらも大きい \n",
    "- min,max,mean,stdどれもtrain,testどれも近い\n",
    "- 各特徴量の平均値が全然違う\n",
    "\n",
    "\n"
   ]
  },
  {
   "cell_type": "code",
   "execution_count": null,
   "metadata": {},
   "outputs": [],
   "source": [
    "def plot_feature_scatter(df1, df2, features):\n",
    "    i = 0\n",
    "    #　背景を白にする\n",
    "    sns.set_style('whitegrid')\n",
    "    # 何も描画されない新しいウィンドウを作成する\n",
    "    plt.figure()\n",
    "    fig, ax = plt.subplots(4,4,figsize=(14,14))\n",
    "\n",
    "    for feature in features:\n",
    "        i += 1\n",
    "        plt.subplot(4,4,i)\n",
    "        plt.scatter(df1[feature], df2[feature], marker='+')\n",
    "        plt.xlabel(feature, fontsize=9)\n",
    "    plt.show();"
   ]
  },
  {
   "cell_type": "code",
   "execution_count": null,
   "metadata": {},
   "outputs": [],
   "source": [
    "features = ['var_0', 'var_1','var_2','var_3', 'var_4', 'var_5', 'var_6', 'var_7', \n",
    "           'var_8', 'var_9', 'var_10','var_11','var_12', 'var_13', 'var_14', 'var_15', \n",
    "           ]\n",
    "plot_feature_scatter(train[::20],test[::20], features)"
   ]
  },
  {
   "cell_type": "code",
   "execution_count": null,
   "metadata": {},
   "outputs": [],
   "source": [
    "sns.countplot(train['target'])"
   ]
  },
  {
   "cell_type": "code",
   "execution_count": null,
   "metadata": {},
   "outputs": [],
   "source": [
    "print(\"There are {}% target values with 1\".format(100 * train[\"target\"].value_counts()[1]/train.shape[0]))"
   ]
  },
  {
   "cell_type": "code",
   "execution_count": null,
   "metadata": {},
   "outputs": [],
   "source": [
    "def plot_feature_distribution(df1, df2, label1, label2, features):\n",
    "    i = 0\n",
    "    sns.set_style('whitegrid')\n",
    "    plt.figure()\n",
    "    fig, ax = plt.subplots(10,10,figsize=(18,22))\n",
    "\n",
    "    for feature in features:\n",
    "        i += 1\n",
    "        plt.subplot(10,10,i)\n",
    "        sns.kdeplot(df1[feature], bw=0.5,label=label1)\n",
    "        sns.kdeplot(df2[feature], bw=0.5,label=label2)\n",
    "        plt.xlabel(feature, fontsize=9)\n",
    "        locs, labels = plt.xticks()\n",
    "        plt.tick_params(axis='x', which='major', labelsize=6, pad=-6)\n",
    "        plt.tick_params(axis='y', which='major', labelsize=6)\n",
    "    plt.show();"
   ]
  },
  {
   "cell_type": "code",
   "execution_count": null,
   "metadata": {},
   "outputs": [],
   "source": [
    "t0 = train.loc[train['target'] == 0]\n",
    "t1 = train.loc[train['target'] == 1]\n",
    "features = train.columns.values[2:102]\n",
    "plot_feature_distribution(t0, t1, '0', '1', features)"
   ]
  },
  {
   "cell_type": "code",
   "execution_count": null,
   "metadata": {},
   "outputs": [],
   "source": [
    "features = train.columns.values[102:]\n",
    "plot_feature_distribution(t0, t1, '0', '1', features)"
   ]
  },
  {
   "cell_type": "markdown",
   "metadata": {},
   "source": [
    "-  var_0, var_1, var_2, var_5, var_9, var_13, var_106, var_109, var_139 等は０と１の分布が大きく異なる<br>\n",
    "- var_2, var_13, var_26, var_55, var_175, var_184, var_196等は分布が正規分布（？）に従うように再調整されている"
   ]
  },
  {
   "cell_type": "markdown",
   "metadata": {},
   "source": [
    "trainとtest毎に各行・列の要素の値の平均・分散がどのように分布されているか確認する"
   ]
  },
  {
   "cell_type": "code",
   "execution_count": null,
   "metadata": {},
   "outputs": [],
   "source": [
    "plt.figure(figsize=(16,6))\n",
    "features = train.columns.values[2:202]\n",
    "plt.title(\"Distribution of mean values per row in the train and test set\")\n",
    "#kdeも表示する。120分割する\n",
    "sns.distplot(train[features].mean(axis=1),color=\"green\", kde=True,bins=120, label='train')\n",
    "sns.distplot(test[features].mean(axis=1),color=\"blue\", kde=True,bins=120, label='test')\n",
    "plt.legend()\n",
    "plt.show()"
   ]
  },
  {
   "cell_type": "code",
   "execution_count": null,
   "metadata": {},
   "outputs": [],
   "source": [
    "plt.figure(figsize=(16,6))\n",
    "plt.title(\"Distribution of mean values per column in the train and test set\")\n",
    "sns.distplot(train[features].mean(axis=0),color=\"magenta\",kde=True,bins=120, label='train')\n",
    "sns.distplot(test[features].mean(axis=0),color=\"darkblue\", kde=True,bins=120, label='test')\n",
    "plt.legend()\n",
    "plt.show()"
   ]
  },
  {
   "cell_type": "code",
   "execution_count": null,
   "metadata": {},
   "outputs": [],
   "source": [
    "plt.figure(figsize=(16,6))\n",
    "plt.title(\"Distribution of std values per row in the train and test set\")\n",
    "sns.distplot(train[features].std(axis=1),color=\"black\", kde=True,bins=120, label='train')\n",
    "sns.distplot(test[features].std(axis=1),color=\"red\", kde=True,bins=120, label='test')\n",
    "plt.legend();plt.show()"
   ]
  },
  {
   "cell_type": "code",
   "execution_count": null,
   "metadata": {},
   "outputs": [],
   "source": [
    "plt.figure(figsize=(16,6))\n",
    "plt.title(\"Distribution of std values per column in the train and test set\")\n",
    "sns.distplot(train[features].std(axis=0),color=\"blue\",kde=True,bins=120, label='train')\n",
    "sns.distplot(test[features].std(axis=0),color=\"green\", kde=True,bins=120, label='test')\n",
    "plt.legend(); plt.show()"
   ]
  },
  {
   "cell_type": "markdown",
   "metadata": {},
   "source": [
    "targetによって分割し、平均・分散を確認する"
   ]
  },
  {
   "cell_type": "code",
   "execution_count": null,
   "metadata": {},
   "outputs": [],
   "source": [
    "t0 = train.loc[train['target'] == 0]\n",
    "t1 = train.loc[train['target'] == 1]\n",
    "plt.figure(figsize=(16,6))\n",
    "plt.title(\"Distribution of mean values per row in the train set\")\n",
    "sns.distplot(t0[features].mean(axis=1),color=\"red\", kde=True,bins=120, label='target = 0')\n",
    "sns.distplot(t1[features].mean(axis=1),color=\"blue\", kde=True,bins=120, label='target = 1')\n",
    "plt.legend(); plt.show()"
   ]
  },
  {
   "cell_type": "code",
   "execution_count": null,
   "metadata": {},
   "outputs": [],
   "source": [
    "plt.figure(figsize=(16,6))\n",
    "plt.title(\"Distribution of mean values per column in the train set\")\n",
    "sns.distplot(t0[features].mean(axis=0),color=\"green\", kde=True,bins=120, label='target = 0')\n",
    "sns.distplot(t1[features].mean(axis=0),color=\"darkblue\", kde=True,bins=120, label='target = 1')\n",
    "plt.legend(); plt.show()"
   ]
  },
  {
   "cell_type": "markdown",
   "metadata": {},
   "source": [
    "trainとtest毎に各行・列の要素の値の最小値・最大値がどのように分布されているか確認する"
   ]
  },
  {
   "cell_type": "code",
   "execution_count": null,
   "metadata": {},
   "outputs": [],
   "source": [
    "plt.figure(figsize=(16,6))\n",
    "features = train.columns.values[2:202]\n",
    "plt.title(\"Distribution of min values per row in the train and test set\")\n",
    "sns.distplot(train[features].min(axis=1),color=\"red\", kde=True,bins=120, label='train')\n",
    "sns.distplot(test[features].min(axis=1),color=\"orange\", kde=True,bins=120, label='test')\n",
    "plt.legend()\n",
    "plt.show()"
   ]
  },
  {
   "cell_type": "code",
   "execution_count": null,
   "metadata": {},
   "outputs": [],
   "source": [
    "plt.figure(figsize=(16,6))\n",
    "features = train.columns.values[2:202]\n",
    "plt.title(\"Distribution of min values per column in the train and test set\")\n",
    "sns.distplot(train[features].min(axis=0),color=\"magenta\", kde=True,bins=120, label='train')\n",
    "sns.distplot(test[features].min(axis=0),color=\"darkblue\", kde=True,bins=120, label='test')\n",
    "plt.legend()\n",
    "plt.show()"
   ]
  },
  {
   "cell_type": "code",
   "execution_count": null,
   "metadata": {},
   "outputs": [],
   "source": [
    "plt.figure(figsize=(16,6))\n",
    "features = train.columns.values[2:202]\n",
    "plt.title(\"Distribution of max values per row in the train and test set\")\n",
    "sns.distplot(train[features].max(axis=1),color=\"brown\", kde=True,bins=120, label='train')\n",
    "sns.distplot(test[features].max(axis=1),color=\"yellow\", kde=True,bins=120, label='test')\n",
    "plt.legend()\n",
    "plt.show()"
   ]
  },
  {
   "cell_type": "code",
   "execution_count": null,
   "metadata": {},
   "outputs": [],
   "source": [
    "plt.figure(figsize=(16,6))\n",
    "features = train.columns.values[2:202]\n",
    "plt.title(\"Distribution of max values per column in the train and test set\")\n",
    "sns.distplot(train[features].max(axis=0),color=\"blue\", kde=True,bins=120, label='train')\n",
    "sns.distplot(test[features].max(axis=0),color=\"red\", kde=True,bins=120, label='test')\n",
    "plt.legend()\n",
    "plt.show()"
   ]
  },
  {
   "cell_type": "markdown",
   "metadata": {},
   "source": [
    "targetごとにminmaxを確認する"
   ]
  },
  {
   "cell_type": "code",
   "execution_count": null,
   "metadata": {},
   "outputs": [],
   "source": [
    "t0 = train.loc[train['target'] == 0]\n",
    "t1 = train.loc[train['target'] == 1]\n",
    "plt.figure(figsize=(16,6))\n",
    "plt.title(\"Distribution of min values per row in the train set\")\n",
    "sns.distplot(t0[features].min(axis=1),color=\"orange\", kde=True,bins=120, label='target = 0')\n",
    "sns.distplot(t1[features].min(axis=1),color=\"darkblue\", kde=True,bins=120, label='target = 1')\n",
    "plt.legend(); plt.show()"
   ]
  },
  {
   "cell_type": "code",
   "execution_count": null,
   "metadata": {},
   "outputs": [],
   "source": [
    "plt.figure(figsize=(16,6))\n",
    "plt.title(\"Distribution of min values per column in the train set\")\n",
    "sns.distplot(t0[features].min(axis=0),color=\"red\", kde=True,bins=120, label='target = 0')\n",
    "sns.distplot(t1[features].min(axis=0),color=\"blue\", kde=True,bins=120, label='target = 1')\n",
    "plt.legend(); plt.show()"
   ]
  },
  {
   "cell_type": "code",
   "execution_count": null,
   "metadata": {},
   "outputs": [],
   "source": [
    "plt.figure(figsize=(16,6))\n",
    "plt.title(\"Distribution of max values per row in the train set\")\n",
    "sns.distplot(t0[features].max(axis=1),color=\"gold\", kde=True,bins=120, label='target = 0')\n",
    "sns.distplot(t1[features].max(axis=1),color=\"darkblue\", kde=True,bins=120, label='target = 1')\n",
    "plt.legend(); plt.show()"
   ]
  },
  {
   "cell_type": "code",
   "execution_count": null,
   "metadata": {},
   "outputs": [],
   "source": [
    "plt.figure(figsize=(16,6))\n",
    "plt.title(\"Distribution of max values per column in the train set\")\n",
    "sns.distplot(t0[features].max(axis=0),color=\"red\", kde=True,bins=120, label='target = 0')\n",
    "sns.distplot(t1[features].max(axis=0),color=\"blue\", kde=True,bins=120, label='target = 1')\n",
    "plt.legend(); plt.show()"
   ]
  },
  {
   "cell_type": "markdown",
   "metadata": {},
   "source": [
    "歪度と尖度を確認する(skewness,kurtosis)"
   ]
  },
  {
   "cell_type": "code",
   "execution_count": null,
   "metadata": {},
   "outputs": [],
   "source": [
    "plt.figure(figsize=(16,6))\n",
    "plt.title(\"Distribution of skew per row in the train and test set\")\n",
    "sns.distplot(train[features].skew(axis=1),color=\"red\", kde=True,bins=120, label='train')\n",
    "sns.distplot(test[features].skew(axis=1),color=\"orange\", kde=True,bins=120, label='test')\n",
    "plt.legend()\n",
    "plt.show()"
   ]
  },
  {
   "cell_type": "code",
   "execution_count": null,
   "metadata": {},
   "outputs": [],
   "source": [
    "plt.figure(figsize=(16,6))\n",
    "plt.title(\"Distribution of skew per column in the train and test set\")\n",
    "sns.distplot(train[features].skew(axis=0),color=\"magenta\", kde=True,bins=120, label='train')\n",
    "sns.distplot(test[features].skew(axis=0),color=\"darkblue\", kde=True,bins=120, label='test')\n",
    "plt.legend()\n",
    "plt.show()"
   ]
  },
  {
   "cell_type": "code",
   "execution_count": null,
   "metadata": {},
   "outputs": [],
   "source": [
    "plt.figure(figsize=(16,6))\n",
    "plt.title(\"Distribution of kurtosis per row in the train and test set\")\n",
    "sns.distplot(train[features].kurtosis(axis=1),color=\"darkblue\", kde=True,bins=120, label='train')\n",
    "sns.distplot(test[features].kurtosis(axis=1),color=\"yellow\", kde=True,bins=120, label='test')\n",
    "plt.legend()\n",
    "plt.show()"
   ]
  },
  {
   "cell_type": "code",
   "execution_count": null,
   "metadata": {},
   "outputs": [],
   "source": [
    "plt.figure(figsize=(16,6))\n",
    "plt.title(\"Distribution of kurtosis per column in the train and test set\")\n",
    "sns.distplot(train[features].kurtosis(axis=0),color=\"magenta\", kde=True,bins=120, label='train')\n",
    "sns.distplot(test[features].kurtosis(axis=0),color=\"green\", kde=True,bins=120, label='test')\n",
    "plt.legend()\n",
    "plt.show()"
   ]
  },
  {
   "cell_type": "code",
   "execution_count": null,
   "metadata": {},
   "outputs": [],
   "source": [
    "t0 = train.loc[train['target'] == 0]\n",
    "t1 = train.loc[train['target'] == 1]\n",
    "plt.figure(figsize=(16,6))\n",
    "plt.title(\"Distribution of skew values per row in the train set\")\n",
    "sns.distplot(t0[features].skew(axis=1),color=\"red\", kde=True,bins=120, label='target = 0')\n",
    "sns.distplot(t1[features].skew(axis=1),color=\"blue\", kde=True,bins=120, label='target = 1')\n",
    "plt.legend(); plt.show()"
   ]
  },
  {
   "cell_type": "code",
   "execution_count": null,
   "metadata": {},
   "outputs": [],
   "source": [
    "plt.figure(figsize=(16,6))\n",
    "plt.title(\"Distribution of skew values per column in the train set\")\n",
    "sns.distplot(t0[features].skew(axis=0),color=\"red\", kde=True,bins=120, label='target = 0')\n",
    "sns.distplot(t1[features].skew(axis=0),color=\"blue\", kde=True,bins=120, label='target = 1')\n",
    "plt.legend(); plt.show()"
   ]
  },
  {
   "cell_type": "code",
   "execution_count": null,
   "metadata": {},
   "outputs": [],
   "source": [
    "plt.figure(figsize=(16,6))\n",
    "plt.title(\"Distribution of kurtosis values per row in the train set\")\n",
    "sns.distplot(t0[features].kurtosis(axis=1),color=\"red\", kde=True,bins=120, label='target = 0')\n",
    "sns.distplot(t1[features].kurtosis(axis=1),color=\"blue\", kde=True,bins=120, label='target = 1')\n",
    "plt.legend(); plt.show()"
   ]
  },
  {
   "cell_type": "code",
   "execution_count": null,
   "metadata": {},
   "outputs": [],
   "source": [
    "plt.figure(figsize=(16,6))\n",
    "plt.title(\"Distribution of kurtosis values per column in the train set\")\n",
    "sns.distplot(t0[features].kurtosis(axis=0),color=\"red\", kde=True,bins=120, label='target = 0')\n",
    "sns.distplot(t1[features].kurtosis(axis=0),color=\"blue\", kde=True,bins=120, label='target = 1')\n",
    "plt.legend(); plt.show()"
   ]
  },
  {
   "cell_type": "markdown",
   "metadata": {},
   "source": [
    "### 特徴量の相関を確認していく。"
   ]
  },
  {
   "cell_type": "code",
   "execution_count": null,
   "metadata": {},
   "outputs": [],
   "source": [
    "%%time\n",
    "correlations = train[features].corr().abs().unstack().sort_values(kind=\"quicksort\").reset_index()\n",
    "correlations = correlations[correlations['level_0'] != correlations['level_1']]\n",
    "correlations.head(10)"
   ]
  },
  {
   "cell_type": "code",
   "execution_count": null,
   "metadata": {},
   "outputs": [],
   "source": [
    "correlations.tail(10)"
   ]
  },
  {
   "cell_type": "markdown",
   "metadata": {},
   "source": [
    "### 重複の多い特徴量を確認する。"
   ]
  },
  {
   "cell_type": "code",
   "execution_count": null,
   "metadata": {},
   "outputs": [],
   "source": [
    "features = train.columns.values[2:202]\n",
    "unique_max_train = []\n",
    "unique_max_test = []\n",
    "for feature in features:\n",
    "    values = train[feature].value_counts()\n",
    "    unique_max_train.append([feature, values.max(), values.idxmax()])\n",
    "    values = test[feature].value_counts()\n",
    "    unique_max_test.append([feature, values.max(), values.idxmax()])"
   ]
  },
  {
   "cell_type": "code",
   "execution_count": null,
   "metadata": {},
   "outputs": [],
   "source": [
    "np.transpose((pd.DataFrame(unique_max_train, columns=['Feature', 'Max duplicates', 'Value'])).\\\n",
    "            sort_values(by = 'Max duplicates', ascending=False).head(15))"
   ]
  },
  {
   "cell_type": "code",
   "execution_count": null,
   "metadata": {},
   "outputs": [],
   "source": [
    "np.transpose((pd.DataFrame(unique_max_test, columns=['Feature', 'Max duplicates', 'Value'])).\\\n",
    "            sort_values(by = 'Max duplicates', ascending=False).head(15))"
   ]
  },
  {
   "cell_type": "code",
   "execution_count": null,
   "metadata": {},
   "outputs": [],
   "source": [
    "unique_df=pd.DataFrame(unique_max_train, columns=['Feature', 'Max duplicates', 'Value']).sort_values(by = 'Max duplicates', ascending=False).head(15)"
   ]
  },
  {
   "cell_type": "code",
   "execution_count": null,
   "metadata": {},
   "outputs": [],
   "source": [
    "unique_cols=unique_df['Feature'].values\n"
   ]
  },
  {
   "cell_type": "code",
   "execution_count": null,
   "metadata": {},
   "outputs": [],
   "source": [
    "%%time\n"
   ]
  },
  {
   "cell_type": "code",
   "execution_count": null,
   "metadata": {},
   "outputs": [],
   "source": [
    "\n",
    "colormap = plt.cm.RdBu\n",
    "plt.figure(figsize=(14,12))\n",
    "plt.title('Pearson Correlation of Features', y=1.05, size=15)\n",
    "sns.heatmap(train[unique_cols].astype(float).corr(),linewidths=0.1,vmax=1.0, \n",
    "            square=True, cmap=colormap, linecolor='white', annot=True)"
   ]
  },
  {
   "cell_type": "code",
   "execution_count": null,
   "metadata": {},
   "outputs": [],
   "source": []
  }
 ],
 "metadata": {
  "kernelspec": {
   "display_name": "Python 3",
   "language": "python",
   "name": "python3"
  },
  "language_info": {
   "codemirror_mode": {
    "name": "ipython",
    "version": 3
   },
   "file_extension": ".py",
   "mimetype": "text/x-python",
   "name": "python",
   "nbconvert_exporter": "python",
   "pygments_lexer": "ipython3",
   "version": "3.7.1"
  }
 },
 "nbformat": 4,
 "nbformat_minor": 2
}

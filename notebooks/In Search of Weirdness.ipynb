{
 "cells": [
  {
   "cell_type": "markdown",
   "metadata": {},
   "source": [
    "(1) Search EDA for things that look weird.<br> (2) Verify weirdness by comparing to randomly generated data and confirm that those weird things are in test data<br> (3) Create new features to capture what you see<br> (4) Add to model and tune your model hyperparameters. (5) Confirm CV increases and submit<br>\n",
    "-cdeotte"
   ]
  },
  {
   "cell_type": "markdown",
   "metadata": {},
   "source": [
    "People are getting stressed out because they read all the forum topics all day and they do not discover what \"magic\" is.<br>\n",
    "\n",
    "If they start to waste time with data mining, they will find the magic. But it seems that this will not be the case.<br>"
   ]
  },
  {
   "cell_type": "code",
   "execution_count": 43,
   "metadata": {},
   "outputs": [],
   "source": [
    "import feather as ftr\n",
    "import gc\n",
    "import os\n",
    "import logging\n",
    "import datetime\n",
    "import warnings\n",
    "import numpy as np\n",
    "import pandas as pd\n",
    "import seaborn as sns\n",
    "import lightgbm as lgb\n",
    "from tqdm import tqdm_notebook\n",
    "import matplotlib.pyplot as plt\n",
    "from sklearn.metrics import mean_squared_error\n",
    "from sklearn.metrics import roc_auc_score, roc_curve\n",
    "from sklearn.model_selection import StratifiedKFold\n",
    "warnings.filterwarnings('ignore')\n",
    "train = ftr.read_dataframe(\"../data/input/train.feather\")\n",
    "test = ftr.read_dataframe(\"../data/input/test.feather\")"
   ]
  },
  {
   "cell_type": "code",
   "execution_count": 45,
   "metadata": {},
   "outputs": [
    {
     "data": {
      "text/html": [
       "<div>\n",
       "<style scoped>\n",
       "    .dataframe tbody tr th:only-of-type {\n",
       "        vertical-align: middle;\n",
       "    }\n",
       "\n",
       "    .dataframe tbody tr th {\n",
       "        vertical-align: top;\n",
       "    }\n",
       "\n",
       "    .dataframe thead th {\n",
       "        text-align: right;\n",
       "    }\n",
       "</style>\n",
       "<table border=\"1\" class=\"dataframe\">\n",
       "  <thead>\n",
       "    <tr style=\"text-align: right;\">\n",
       "      <th></th>\n",
       "      <th>var_0</th>\n",
       "      <th>var_1</th>\n",
       "      <th>var_2</th>\n",
       "      <th>var_3</th>\n",
       "      <th>var_4</th>\n",
       "      <th>var_5</th>\n",
       "      <th>var_6</th>\n",
       "      <th>var_7</th>\n",
       "      <th>var_8</th>\n",
       "      <th>var_9</th>\n",
       "      <th>...</th>\n",
       "      <th>var_190</th>\n",
       "      <th>var_191</th>\n",
       "      <th>var_192</th>\n",
       "      <th>var_193</th>\n",
       "      <th>var_194</th>\n",
       "      <th>var_195</th>\n",
       "      <th>var_196</th>\n",
       "      <th>var_197</th>\n",
       "      <th>var_198</th>\n",
       "      <th>var_199</th>\n",
       "    </tr>\n",
       "  </thead>\n",
       "  <tbody>\n",
       "    <tr>\n",
       "      <th>0</th>\n",
       "      <td>0.427853</td>\n",
       "      <td>0.324824</td>\n",
       "      <td>0.568059</td>\n",
       "      <td>0.388041</td>\n",
       "      <td>0.550670</td>\n",
       "      <td>0.467321</td>\n",
       "      <td>0.454298</td>\n",
       "      <td>0.594255</td>\n",
       "      <td>0.270395</td>\n",
       "      <td>0.247420</td>\n",
       "      <td>...</td>\n",
       "      <td>0.569515</td>\n",
       "      <td>0.342943</td>\n",
       "      <td>0.568958</td>\n",
       "      <td>0.448173</td>\n",
       "      <td>0.510975</td>\n",
       "      <td>0.300318</td>\n",
       "      <td>0.678981</td>\n",
       "      <td>0.430958</td>\n",
       "      <td>0.327658</td>\n",
       "      <td>0.560645</td>\n",
       "    </tr>\n",
       "    <tr>\n",
       "      <th>1</th>\n",
       "      <td>0.557212</td>\n",
       "      <td>0.428639</td>\n",
       "      <td>0.681235</td>\n",
       "      <td>0.410417</td>\n",
       "      <td>0.628408</td>\n",
       "      <td>0.795072</td>\n",
       "      <td>0.536604</td>\n",
       "      <td>0.500584</td>\n",
       "      <td>0.660911</td>\n",
       "      <td>0.573056</td>\n",
       "      <td>...</td>\n",
       "      <td>0.668079</td>\n",
       "      <td>0.536531</td>\n",
       "      <td>0.523717</td>\n",
       "      <td>0.756190</td>\n",
       "      <td>0.350211</td>\n",
       "      <td>0.765154</td>\n",
       "      <td>0.686614</td>\n",
       "      <td>0.468277</td>\n",
       "      <td>0.609546</td>\n",
       "      <td>0.605827</td>\n",
       "    </tr>\n",
       "    <tr>\n",
       "      <th>2</th>\n",
       "      <td>0.411969</td>\n",
       "      <td>0.483777</td>\n",
       "      <td>0.578061</td>\n",
       "      <td>0.599690</td>\n",
       "      <td>0.474941</td>\n",
       "      <td>0.471329</td>\n",
       "      <td>0.753295</td>\n",
       "      <td>0.414724</td>\n",
       "      <td>0.270429</td>\n",
       "      <td>0.276041</td>\n",
       "      <td>...</td>\n",
       "      <td>0.522496</td>\n",
       "      <td>0.643141</td>\n",
       "      <td>0.448960</td>\n",
       "      <td>0.448000</td>\n",
       "      <td>0.671183</td>\n",
       "      <td>0.881350</td>\n",
       "      <td>0.236337</td>\n",
       "      <td>0.381950</td>\n",
       "      <td>0.425833</td>\n",
       "      <td>0.582736</td>\n",
       "    </tr>\n",
       "    <tr>\n",
       "      <th>3</th>\n",
       "      <td>0.535099</td>\n",
       "      <td>0.507140</td>\n",
       "      <td>0.396562</td>\n",
       "      <td>0.546993</td>\n",
       "      <td>0.647586</td>\n",
       "      <td>0.616822</td>\n",
       "      <td>0.572995</td>\n",
       "      <td>0.428577</td>\n",
       "      <td>0.224846</td>\n",
       "      <td>0.595326</td>\n",
       "      <td>...</td>\n",
       "      <td>0.570474</td>\n",
       "      <td>0.383085</td>\n",
       "      <td>0.370986</td>\n",
       "      <td>0.439205</td>\n",
       "      <td>0.745555</td>\n",
       "      <td>0.418549</td>\n",
       "      <td>0.346810</td>\n",
       "      <td>0.717176</td>\n",
       "      <td>0.590016</td>\n",
       "      <td>0.443232</td>\n",
       "    </tr>\n",
       "    <tr>\n",
       "      <th>4</th>\n",
       "      <td>0.473637</td>\n",
       "      <td>0.533434</td>\n",
       "      <td>0.624133</td>\n",
       "      <td>0.504796</td>\n",
       "      <td>0.621079</td>\n",
       "      <td>0.702836</td>\n",
       "      <td>0.589011</td>\n",
       "      <td>0.622220</td>\n",
       "      <td>0.811883</td>\n",
       "      <td>0.516413</td>\n",
       "      <td>...</td>\n",
       "      <td>0.387371</td>\n",
       "      <td>0.629275</td>\n",
       "      <td>0.299888</td>\n",
       "      <td>0.697737</td>\n",
       "      <td>0.238801</td>\n",
       "      <td>0.393218</td>\n",
       "      <td>0.557507</td>\n",
       "      <td>0.586526</td>\n",
       "      <td>0.591416</td>\n",
       "      <td>0.446041</td>\n",
       "    </tr>\n",
       "  </tbody>\n",
       "</table>\n",
       "<p>5 rows × 200 columns</p>\n",
       "</div>"
      ],
      "text/plain": [
       "      var_0     var_1     var_2     var_3     var_4     var_5     var_6  \\\n",
       "0  0.427853  0.324824  0.568059  0.388041  0.550670  0.467321  0.454298   \n",
       "1  0.557212  0.428639  0.681235  0.410417  0.628408  0.795072  0.536604   \n",
       "2  0.411969  0.483777  0.578061  0.599690  0.474941  0.471329  0.753295   \n",
       "3  0.535099  0.507140  0.396562  0.546993  0.647586  0.616822  0.572995   \n",
       "4  0.473637  0.533434  0.624133  0.504796  0.621079  0.702836  0.589011   \n",
       "\n",
       "      var_7     var_8     var_9    ...      var_190   var_191   var_192  \\\n",
       "0  0.594255  0.270395  0.247420    ...     0.569515  0.342943  0.568958   \n",
       "1  0.500584  0.660911  0.573056    ...     0.668079  0.536531  0.523717   \n",
       "2  0.414724  0.270429  0.276041    ...     0.522496  0.643141  0.448960   \n",
       "3  0.428577  0.224846  0.595326    ...     0.570474  0.383085  0.370986   \n",
       "4  0.622220  0.811883  0.516413    ...     0.387371  0.629275  0.299888   \n",
       "\n",
       "    var_193   var_194   var_195   var_196   var_197   var_198   var_199  \n",
       "0  0.448173  0.510975  0.300318  0.678981  0.430958  0.327658  0.560645  \n",
       "1  0.756190  0.350211  0.765154  0.686614  0.468277  0.609546  0.605827  \n",
       "2  0.448000  0.671183  0.881350  0.236337  0.381950  0.425833  0.582736  \n",
       "3  0.439205  0.745555  0.418549  0.346810  0.717176  0.590016  0.443232  \n",
       "4  0.697737  0.238801  0.393218  0.557507  0.586526  0.591416  0.446041  \n",
       "\n",
       "[5 rows x 200 columns]"
      ]
     },
     "execution_count": 45,
     "metadata": {},
     "output_type": "execute_result"
    }
   ],
   "source": [
    "ftr.read_dataframe(\"../features/base_train.feather\").head()\n"
   ]
  },
  {
   "cell_type": "code",
   "execution_count": null,
   "metadata": {},
   "outputs": [],
   "source": [
    "#縦が順位,横が行番号。一定の順位だけ、\n",
    "train['var_108_rank']=train['var_108'].rank()\n",
    "train.loc[train['target']==0]['var_108_rank'].plot(figsize=(20,20),style='.')\n",
    "train.loc[train['target']==1]['var_108_rank'].plot(figsize=(20,20),style='.')"
   ]
  },
  {
   "cell_type": "code",
   "execution_count": null,
   "metadata": {},
   "outputs": [],
   "source": [
    "test['var_108'].nu"
   ]
  },
  {
   "cell_type": "code",
   "execution_count": null,
   "metadata": {},
   "outputs": [],
   "source": [
    "test['var_108'].hist(figsize=(30,30),bins=1000)"
   ]
  },
  {
   "cell_type": "code",
   "execution_count": null,
   "metadata": {},
   "outputs": [],
   "source": []
  },
  {
   "cell_type": "code",
   "execution_count": null,
   "metadata": {},
   "outputs": [],
   "source": []
  },
  {
   "cell_type": "code",
   "execution_count": null,
   "metadata": {},
   "outputs": [],
   "source": [
    "train['spike_var_108']=0\n",
    "spike108_index=train.query('0.463<var_108<0.465').index.values\n",
    "train.loc[spike108_index,'spike_var_108']=1"
   ]
  },
  {
   "cell_type": "code",
   "execution_count": null,
   "metadata": {},
   "outputs": [],
   "source": [
    "train['spike_var_108']"
   ]
  },
  {
   "cell_type": "code",
   "execution_count": null,
   "metadata": {},
   "outputs": [],
   "source": [
    "train.loc[train['target']==1]['var_108'].plot(figsize=(30,30),style='.')"
   ]
  },
  {
   "cell_type": "code",
   "execution_count": null,
   "metadata": {},
   "outputs": [],
   "source": [
    "train"
   ]
  },
  {
   "cell_type": "code",
   "execution_count": null,
   "metadata": {},
   "outputs": [],
   "source": [
    "def train_test_marge(train_X,test_X,train_ID,test_ID):\n",
    "    data = train.append(test)\n",
    "    \n",
    "    "
   ]
  },
  {
   "cell_type": "code",
   "execution_count": null,
   "metadata": {},
   "outputs": [],
   "source": [
    "train.loc[train['target']==1]['var_181'].value_counts()"
   ]
  },
  {
   "cell_type": "code",
   "execution_count": null,
   "metadata": {},
   "outputs": [],
   "source": []
  },
  {
   "cell_type": "code",
   "execution_count": null,
   "metadata": {},
   "outputs": [],
   "source": [
    "train.loc[train['target']==1]['var_108'].value_counts()"
   ]
  },
  {
   "cell_type": "code",
   "execution_count": null,
   "metadata": {},
   "outputs": [],
   "source": [
    "train.loc[train['target']==0]['var_181'].plot(figsize=(30,30),style='.')\n",
    "train.loc[train['target']==1]['var_181'].plot(figsize=(30,30),style='.')"
   ]
  },
  {
   "cell_type": "code",
   "execution_count": null,
   "metadata": {},
   "outputs": [],
   "source": []
  },
  {
   "cell_type": "code",
   "execution_count": null,
   "metadata": {},
   "outputs": [],
   "source": [
    "train.loc[train['target']==0]['var_108'].plot(figsize=(30,30),style='.')\n",
    "train.loc[train['target']==1]['var_108'].plot(figsize=(30,30),style='.')"
   ]
  },
  {
   "cell_type": "code",
   "execution_count": null,
   "metadata": {},
   "outputs": [],
   "source": [
    "train['var_68_rank']=train['var_68'].rank()\n",
    "train.loc[train['target']==0]['var_68_rank'].plot(figsize=(30,30),style='.')\n",
    "train.loc[train['target']==1]['var_68_rank'].plot(figsize=(30,30),style='.')"
   ]
  },
  {
   "cell_type": "code",
   "execution_count": null,
   "metadata": {},
   "outputs": [],
   "source": [
    "train['var_126_rank']=train['var_126'].rank()\n",
    "train.loc[train['target']==0]['var_126_rank'].plot(figsize=(30,30),style='.')\n",
    "train.loc[train['target']==1]['var_126_rank'].plot(figsize=(30,30),style='.')"
   ]
  },
  {
   "cell_type": "code",
   "execution_count": null,
   "metadata": {},
   "outputs": [],
   "source": []
  }
 ],
 "metadata": {
  "kernelspec": {
   "display_name": "Python 3",
   "language": "python",
   "name": "python3"
  },
  "language_info": {
   "codemirror_mode": {
    "name": "ipython",
    "version": 3
   },
   "file_extension": ".py",
   "mimetype": "text/x-python",
   "name": "python",
   "nbconvert_exporter": "python",
   "pygments_lexer": "ipython3",
   "version": "3.7.1"
  }
 },
 "nbformat": 4,
 "nbformat_minor": 2
}

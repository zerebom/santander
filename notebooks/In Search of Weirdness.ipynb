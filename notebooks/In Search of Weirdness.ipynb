{
 "cells": [
  {
   "cell_type": "markdown",
   "metadata": {},
   "source": [
    "(1) Search EDA for things that look weird.<br> (2) Verify weirdness by comparing to randomly generated data and confirm that those weird things are in test data<br> (3) Create new features to capture what you see<br> (4) Add to model and tune your model hyperparameters. (5) Confirm CV increases and submit<br>\n",
    "-cdeotte"
   ]
  },
  {
   "cell_type": "markdown",
   "metadata": {},
   "source": [
    "People are getting stressed out because they read all the forum topics all day and they do not discover what \"magic\" is.<br>\n",
    "\n",
    "If they start to waste time with data mining, they will find the magic. But it seems that this will not be the case.<br>"
   ]
  },
  {
   "cell_type": "code",
   "execution_count": null,
   "metadata": {},
   "outputs": [],
   "source": [
    "import feather as ftr\n",
    "import gc\n",
    "import os\n",
    "import logging\n",
    "import datetime\n",
    "import warnings\n",
    "import numpy as np\n",
    "import pandas as pd\n",
    "import seaborn as sns\n",
    "import lightgbm as lgb\n",
    "from tqdm import tqdm_notebook\n",
    "import matplotlib.pyplot as plt\n",
    "from sklearn.metrics import mean_squared_error\n",
    "from sklearn.metrics import roc_auc_score, roc_curve\n",
    "from sklearn.model_selection import StratifiedKFold\n",
    "warnings.filterwarnings('ignore')\n",
    "train = ftr.read_dataframe('../data/input/min_maxed_train.feather')\n",
    "test = ftr.read_dataframe('../data/input/min_maxed_test.feather')"
   ]
  },
  {
   "cell_type": "code",
   "execution_count": null,
   "metadata": {},
   "outputs": [],
   "source": [
    "ftr.read_dataframe(\"../features/base_train.feather\").head()\n"
   ]
  },
  {
   "cell_type": "code",
   "execution_count": null,
   "metadata": {},
   "outputs": [],
   "source": [
    "#縦が順位,横が行番号。一定の順位だけ、\n",
    "train['var_108_rank']=train['var_108'].rank()\n",
    "train.loc[train['target']==0]['var_108_rank'].plot(figsize=(20,20),style='.')\n",
    "train.loc[train['target']==1]['var_108_rank'].plot(figsize=(20,20),style='.')"
   ]
  },
  {
   "cell_type": "code",
   "execution_count": null,
   "metadata": {},
   "outputs": [],
   "source": [
    "test['var_108'].hist(figsize=(30,30),bins=1000)"
   ]
  },
  {
   "cell_type": "code",
   "execution_count": null,
   "metadata": {},
   "outputs": [],
   "source": [
    "spike_108[train['target']==1]['var_108'].hist(figsize=(30,30))"
   ]
  },
  {
   "cell_type": "code",
   "execution_count": null,
   "metadata": {},
   "outputs": [],
   "source": [
    "spike_108[train['target']==0]['var_108'].hist(figsize=(30,30))"
   ]
  },
  {
   "cell_type": "code",
   "execution_count": null,
   "metadata": {},
   "outputs": [],
   "source": [
    "spike_108=train.query('0.46<var_108<0.48')"
   ]
  },
  {
   "cell_type": "code",
   "execution_count": null,
   "metadata": {},
   "outputs": [],
   "source": [
    "train['spike_var_108']"
   ]
  },
  {
   "cell_type": "code",
   "execution_count": null,
   "metadata": {},
   "outputs": [],
   "source": [
    "train.loc[train['target']==1]['var_108'].plot(figsize=(30,30),style='.')"
   ]
  },
  {
   "cell_type": "code",
   "execution_count": null,
   "metadata": {},
   "outputs": [],
   "source": [
    "def train_test_marge(train_X,test_X,train_ID,test_ID):\n",
    "    data = train.append(test)\n",
    "    \n",
    "    "
   ]
  },
  {
   "cell_type": "code",
   "execution_count": null,
   "metadata": {},
   "outputs": [],
   "source": [
    "train.loc[train['target']==1]['var_181'].value_counts()"
   ]
  },
  {
   "cell_type": "code",
   "execution_count": null,
   "metadata": {},
   "outputs": [],
   "source": [
    "train.loc[train['target']==1]['var_108'].value_counts()"
   ]
  },
  {
   "cell_type": "code",
   "execution_count": null,
   "metadata": {},
   "outputs": [],
   "source": [
    "train.loc[train['target']==0]['var_180'].plot(figsize=(30,30),style='.')\n",
    "train.loc[train['target']==1]['var_180'].plot(figsize=(30,30),style='.')"
   ]
  },
  {
   "cell_type": "code",
   "execution_count": null,
   "metadata": {},
   "outputs": [],
   "source": [
    "train.loc[train['target']==1]['var_181'].plot(figsize=(30,30),style='.')"
   ]
  },
  {
   "cell_type": "code",
   "execution_count": null,
   "metadata": {},
   "outputs": [],
   "source": [
    "spike_108.loc[train['target']==0]['var_108'].plot(figsize=(30,30),style='.')\n",
    "spike_108.loc[train['target']==1]['var_108'].plot(figsize=(30,30),style='.')"
   ]
  },
  {
   "cell_type": "code",
   "execution_count": null,
   "metadata": {},
   "outputs": [],
   "source": [
    "train.loc[train['target']==0]['var_108'].plot(figsize=(30,30),style='.')\n",
    "train.loc[train['target']==1]['var_108'].plot(figsize=(30,30),style='.')"
   ]
  },
  {
   "cell_type": "code",
   "execution_count": null,
   "metadata": {},
   "outputs": [],
   "source": [
    "for i in range(200):\n",
    "    fig = plt.figure()\n",
    "    train.loc[train['target']==0][f'var_{i}'].plot(figsize=(30,30),style='.')\n",
    "    train.loc[train['target']==1][f'var_{i}'].plot(figsize=(30,30),style='.')\n",
    "    plt.savefig(f\"{i}_2.png\",dpi=50)"
   ]
  },
  {
   "cell_type": "code",
   "execution_count": null,
   "metadata": {},
   "outputs": [],
   "source": [
    "train['var_68_rank']=train['var_68'].rank()\n",
    "train.loc[train['target']==1]['var_68_rank'].plot(figsize=(30,30),style='.')"
   ]
  },
  {
   "cell_type": "code",
   "execution_count": null,
   "metadata": {},
   "outputs": [],
   "source": [
    "train['var_126_rank']=train['var_126'].rank()\n",
    "train.loc[train['target']==0]['var_126_rank'].plot(figsize=(30,30),style='.')\n",
    "train.loc[train['target']==1]['var_126_rank'].plot(figsize=(30,30),style='.')"
   ]
  },
  {
   "cell_type": "code",
   "execution_count": null,
   "metadata": {},
   "outputs": [],
   "source": [
    "def plot_feature_distribution(df1, df2, label1, label2, features):\n",
    "    i = 0\n",
    "    sns.set_style('whitegrid')\n",
    "    plt.figure()\n",
    "    fig, ax = plt.subplots(10,10,figsize=(18,22))\n",
    "\n",
    "    for feature in features:\n",
    "        i += 1\n",
    "        plt.subplot(10,10,i)\n",
    "        sns.kdeplot(df1[feature], bw=0.5,label=label1)\n",
    "        sns.kdeplot(df2[feature], bw=0.5,label=label2)\n",
    "        plt.xlabel(feature, fontsize=9)\n",
    "        locs, labels = plt.xticks()\n",
    "        plt.tick_params(axis='x', which='major', labelsize=6, pad=-6)\n",
    "        plt.tick_params(axis='y', which='major', labelsize=6)\n",
    "    plt.show();"
   ]
  },
  {
   "cell_type": "code",
   "execution_count": null,
   "metadata": {},
   "outputs": [],
   "source": [
    "t0 = train.loc[train['target'] == 0]\n",
    "t1 = train.loc[train['target'] == 1]\n",
    "for i in range(0,19):\n",
    "    features = train.columns.values[5*i+2:5*i+5+2]\n",
    "    plot_feature_distribution(t0, t1, '0', '1', features)"
   ]
  },
  {
   "cell_type": "code",
   "execution_count": null,
   "metadata": {},
   "outputs": [],
   "source": [
    "train.loc[train['target']==1]['var_181'].plot(figsize=(30,30),style='.')"
   ]
  },
  {
   "cell_type": "code",
   "execution_count": null,
   "metadata": {},
   "outputs": [],
   "source": [
    "for i in range(200):\n",
    "    plt.figure(figsize=(30,30))\n",
    "    sns.kdeplot(train.loc[train['target']==1][f'var_{i}'], bw=0.1)\n",
    "    sns.kdeplot(train.loc[train['target']==0][f'var_{i}'], bw=0.1)\n",
    "    plt.savefig(f'var_{i}_hist.png')"
   ]
  },
  {
   "cell_type": "code",
   "execution_count": null,
   "metadata": {},
   "outputs": [],
   "source": [
    "plt.figure(figsize=(30,30))\n",
    "sns.kdeplot(train.loc[train['target']==1]['var_180'], bw=0.1)\n",
    "sns.kdeplot(train.loc[train['target']==0]['var_180'], bw=0.1)"
   ]
  },
  {
   "cell_type": "code",
   "execution_count": null,
   "metadata": {},
   "outputs": [],
   "source": []
  }
 ],
 "metadata": {
  "kernelspec": {
   "display_name": "Python 3",
   "language": "python",
   "name": "python3"
  },
  "language_info": {
   "codemirror_mode": {
    "name": "ipython",
    "version": 3
   },
   "file_extension": ".py",
   "mimetype": "text/x-python",
   "name": "python",
   "nbconvert_exporter": "python",
   "pygments_lexer": "ipython3",
   "version": "3.7.1"
  }
 },
 "nbformat": 4,
 "nbformat_minor": 2
}

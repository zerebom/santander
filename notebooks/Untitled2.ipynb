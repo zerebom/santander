{
 "cells": [
  {
   "cell_type": "code",
   "execution_count": 54,
   "metadata": {},
   "outputs": [],
   "source": [
    "import numpy as np\n",
    "import feather as ftr\n",
    "from sklearn.cluster import KMeans\n",
    "from sklearn.preprocessing import OneHotEncoder\n",
    "from sklearn.preprocessing import MinMaxScaler\n",
    "import pandas as pd\n",
    "\n",
    "train = ftr.read_dataframe('../data/input/min_maxed_train.feather')\n",
    "test = ftr.read_dataframe('../data/input/min_maxed_test.feather')\n"
   ]
  },
  {
   "cell_type": "code",
   "execution_count": 55,
   "metadata": {},
   "outputs": [
    {
     "name": "stderr",
     "output_type": "stream",
     "text": [
      "c:\\users\\k-higuchi\\appdata\\local\\programs\\python\\python37\\lib\\site-packages\\pandas\\core\\frame.py:6211: FutureWarning: Sorting because non-concatenation axis is not aligned. A future version\n",
      "of pandas will change to not sort by default.\n",
      "\n",
      "To accept the future behavior, pass 'sort=False'.\n",
      "\n",
      "To retain the current behavior and silence the warning, pass 'sort=True'.\n",
      "\n",
      "  sort=sort)\n"
     ]
    }
   ],
   "source": [
    "train=train.iloc[:300,:]\n",
    "test=test.iloc[:300,:]\n",
    "\n",
    "data = train.append(test)\n",
    "data.drop(columns=['target', 'ID_code'], inplace=True)\n",
    "\n",
    "kmf = KMeansFeaturizer()\n",
    "k_data = kmf.fit_transform(data)\n",
    "\n",
    "data = pd.DataFrame(k_data.toarray())\n",
    "data = data.add_prefix('k_')\n",
    "\n",
    "test = data.iloc[train.shape[0]:, :].reset_index(drop=True)\n",
    "train = data.iloc[:train.shape[0], :].reset_index(drop=True)\n"
   ]
  },
  {
   "cell_type": "code",
   "execution_count": 61,
   "metadata": {},
   "outputs": [
    {
     "data": {
      "text/plain": [
       "25.0"
      ]
     },
     "execution_count": 61,
     "metadata": {},
     "output_type": "execute_result"
    }
   ],
   "source": [
    "train['k_var_2'].sum()"
   ]
  },
  {
   "cell_type": "code",
   "execution_count": 24,
   "metadata": {},
   "outputs": [],
   "source": [
    "#big_diff\n",
    "features = train.columns.values[2:202]\n",
    "t0 = train.loc[train['target'] == 0]\n",
    "t1 = train.loc[train['target'] == 1]\n",
    "train_ID_df=train.iloc[:,:2]\n",
    "test_ID_df=test.iloc[:,:1]\n",
    "\n",
    "train.drop(columns=['target','ID_code'],inplace=True)\n",
    "test.drop(columns=['ID_code'],inplace=True)\n",
    "\n",
    "\n",
    "plus_idxs = (t1[features].mean(axis=0) - t0[features].mean(axis=0)\n",
    "            ).sort_values(ascending=False)[0:10].index\n",
    "\n",
    "minus_idxs = (t1[features].mean(axis=0) - t0[features].mean(axis=0)\n",
    "            ).sort_values(ascending=False)[-10:].index"
   ]
  },
  {
   "cell_type": "code",
   "execution_count": null,
   "metadata": {},
   "outputs": [],
   "source": [
    "#平均の差分が大きい特徴量を確認\n",
    "\n",
    "idxs=(t1[features].mean(axis=0)-t0[features].mean(axis=0)).sort_values(ascending=False)[-10:].index"
   ]
  },
  {
   "cell_type": "code",
   "execution_count": null,
   "metadata": {},
   "outputs": [],
   "source": [
    "(t1[features].mean(axis=0)-t0[features].mean(axis=0)).sort_values(ascending=False)[-10:]"
   ]
  },
  {
   "cell_type": "code",
   "execution_count": 32,
   "metadata": {},
   "outputs": [],
   "source": [
    "class KMeansFeaturizer:\n",
    "    \"\"\"\n",
    "    数値データをk-meansのクラスタIDに変換します。\n",
    "    \n",
    "    この変換器は入力データに対してk-meansを実行し、各データポイントを最も近い\n",
    "    クラスタのIDに変換します。ターゲット変数yが存在する場合、クラス分類の境界を\n",
    "    より重視したクラスタリングの結果を得るために、ターゲット変数をスケーリングして\n",
    "    入力データに含めてk-meansに渡します。\n",
    "    \"\"\"\n",
    "    #k=出力するクラスタの数\n",
    "    def __init__(self, k=100, target_scale=5.0, random_state=None):\n",
    "        self.k = k\n",
    "        self.target_scale = target_scale\n",
    "        self.random_state = random_state\n",
    "        # np.array(range(k)).reshape(-1,1) ->2次元配列にそれぞれ一個ずつ要素が入っている。([[0],[1]...])\n",
    "        #要素が入ってきたとき、one-hotvectorに変換する?([0]->[1,0,0...])\n",
    "        self.cluster_encoder = OneHotEncoder(categories='auto').fit(np.array(range(k)).reshape(-1,1))\n",
    "        \n",
    "    def fit(self, X, y=None):\n",
    "        \"\"\"\n",
    "        入力データに対しk-meansを実行し、各クラスタの中心を見つけます。\n",
    "        \"\"\"\n",
    "        if y is None:\n",
    "            # ターゲット変数がない場合、ふつうのk-meansを実行します。\n",
    "            km_model = KMeans(n_clusters=self.k, n_init=20, random_state=self.random_state)\n",
    "            km_model.fit(X)\n",
    "            self.km_model = km_model\n",
    "            self.cluster_centers_ = km_model.cluster_centers_\n",
    "            return self\n",
    "\n",
    "        # ターゲット変数がある場合。スケーリングして入力データに含めます。\n",
    "        data_with_target = np.hstack((X, y[:,np.newaxis]*self.target_scale))\n",
    "\n",
    "        # ターゲットを組み入れたデータで事前学習するためのk-meansモデルを構築します。\n",
    "        km_model_pretrain = KMeans(n_clusters=self.k, n_init=20, random_state=self.random_state)\n",
    "        km_model_pretrain.fit(data_with_target)\n",
    "\n",
    "        # ターゲット変数の情報を除いて元の空間におけるクラスタを得るために\n",
    "        # k-meansを再度実行します。事前学習で見つけたクラスタの中心を\n",
    "        # 使って初期化し、クラスタの割り当てと中心の再計算を1回にします。\n",
    "        km_model = KMeans(n_clusters=self.k, init=km_model_pretrain.cluster_centers_[:,:2], n_init=1, max_iter=1)\n",
    "        km_model.fit(X)\n",
    "        \n",
    "        self.km_model = km_model\n",
    "        self.cluster_centers_ = km_model.cluster_centers_\n",
    "        return self\n",
    "    \n",
    "    def transform(self, X, y=None):\n",
    "        \"\"\"\n",
    "        入力データポイントに最も近いクラスタのIDを返します。\n",
    "        \"\"\"\n",
    "        clusters = self.km_model.predict(X)\n",
    "        #clustersが[[0],[8]...]みたいに代入されてそれがワンホットベクトルとして変換されて出力される?\n",
    "        return self.cluster_encoder.transform(clusters.reshape(-1,1))\n",
    "    \n",
    "    def fit_transform(self, X, y=None):\n",
    "        self.fit(X, y)\n",
    "        return self.transform(X, y)"
   ]
  },
  {
   "cell_type": "code",
   "execution_count": null,
   "metadata": {},
   "outputs": [],
   "source": [
    "train = ftr.read_dataframe('../data/input/train.feather')\n",
    "test = ftr.read_dataframe('../data/input/test.feather')\n",
    "\n",
    "#min_maxedを適用しておく。\n",
    "features = train.columns.values[2:202]\n",
    "target=train['target']\n",
    "train_ID=train['ID_code']\n",
    "test_ID=test['ID_code']\n",
    "\n",
    "data_idx=data.index\n",
    "data_col=data.columns\n",
    "\n",
    "# data = train.append(test)\n",
    "train.drop(columns=['target','ID_code'],inplace=True)\n",
    "test.drop(columns=['ID_code'],inplace=True)\n",
    "\n",
    "mm_scale = MinMaxScaler(copy=True, feature_range=(0, 1))\n",
    "mm_scale.fit(train)\n",
    "scale_train=mm_scale.transform(train)\n",
    "scale_test=mm_scale.transform(test)\n",
    "\n",
    "train=pd.DataFrame(scale_train,index=data_idx,columns=data_col)\n",
    "test=pd.DataFrame(scale_train,index=data_idx,columns=data_col)\n",
    "\n",
    "test = data.iloc[train.shape[0]:, :].reset_index(drop=True)\n",
    "train = data.iloc[:train.shape[0], :].reset_index(drop=True)\n",
    "\n",
    "train['target']=target\n",
    "train['ID_code']=train_ID\n",
    "test['ID_code']=test_ID\n",
    "\n",
    "# train.to_feather('../data/input/min_maxed_train.feather')\n",
    "# test.to_feather('../data/input/min_maxed_test.feather')"
   ]
  },
  {
   "cell_type": "code",
   "execution_count": null,
   "metadata": {},
   "outputs": [],
   "source": [
    "features = train.columns.values[2:202]\n",
    "t0 = train.loc[train['target'] == 0]\n",
    "t1 = train.loc[train['target'] == 1]\n",
    "\n",
    "plus_idxs = (t1[features].mean(axis=0) - t0[features].mean(axis=0)\n",
    "            ).sort_values(ascending=False)[0:10].index\n",
    "\n",
    "minus_idxs = (t1[features].mean(axis=0) - t0[features].mean(axis=0)\n",
    "            ).sort_values(ascending=False)[-10:].index\n"
   ]
  },
  {
   "cell_type": "code",
   "execution_count": null,
   "metadata": {},
   "outputs": [],
   "source": [
    "\n",
    "features = train.columns.values[2:202]\n",
    "t0 = train.loc[train['target'] == 0]\n",
    "t1 = train.loc[train['target'] == 1]\n",
    "\n",
    "\n",
    "\n",
    "plus_idxs = (t1[features].mean(axis=0) - t0[features].mean(axis=0)\n",
    "            ).sort_values(ascending=False)[0:10].index\n",
    "\n",
    "minus_idxs = (t1[features].mean(axis=0) - t0[features].mean(axis=0)\n",
    "            ).sort_values(ascending=False)[-10:].index"
   ]
  },
  {
   "cell_type": "code",
   "execution_count": null,
   "metadata": {},
   "outputs": [],
   "source": [
    "print(train[minus_idxs].sum(axis=1))"
   ]
  },
  {
   "cell_type": "code",
   "execution_count": null,
   "metadata": {},
   "outputs": [],
   "source": [
    "minus_idxs"
   ]
  },
  {
   "cell_type": "code",
   "execution_count": null,
   "metadata": {},
   "outputs": [],
   "source": [
    "train=reduce_mem_usage(train, verbose=True)"
   ]
  },
  {
   "cell_type": "code",
   "execution_count": 21,
   "metadata": {},
   "outputs": [],
   "source": [
    "train = ftr.read_dataframe('../data/input/train.feather')\n",
    "test = ftr.read_dataframe('../data/input/test.feather')\n",
    "\n",
    "train_ID_df=train.iloc[:,:2]\n",
    "test_ID_df=test.iloc[:,:1]\n",
    "features = train.columns.values[2:202]\n",
    "\n",
    "train.drop(columns=['target','ID_code'],inplace=True)\n",
    "test.drop(columns=['ID_code'],inplace=True)\n",
    "\n",
    "mm_scale = MinMaxScaler(copy=True, feature_range=(0, 1))\n",
    "train_scaled=mm_scale.fit_transform(train)\n",
    "test_scaled=mm_scale.transform(test)\n",
    "\n",
    "train_scaled_df=pd.DataFrame(train_scaled,columns=features)\n",
    "test_scaled_df=pd.DataFrame(test_scaled,columns=features)\n",
    "\n",
    "train_scaled_df=pd.concat([train_ID_df,train_scaled_df],axis=1)\n",
    "test_scaled_df=pd.concat([test_ID_df,test_scaled_df],axis=1)\n",
    "\n",
    "train_scaled_df.to_feather('../data/input/min_maxed_train.feather')\n",
    "test_scaled_df.to_feather('../data/input/min_maxed_test.feather')\n"
   ]
  }
 ],
 "metadata": {
  "kernelspec": {
   "display_name": "Python 3",
   "language": "python",
   "name": "python3"
  },
  "language_info": {
   "codemirror_mode": {
    "name": "ipython",
    "version": 3
   },
   "file_extension": ".py",
   "mimetype": "text/x-python",
   "name": "python",
   "nbconvert_exporter": "python",
   "pygments_lexer": "ipython3",
   "version": "3.7.1"
  }
 },
 "nbformat": 4,
 "nbformat_minor": 2
}

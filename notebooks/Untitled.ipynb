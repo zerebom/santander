{
 "cells": [
  {
   "cell_type": "code",
   "execution_count": 2,
   "metadata": {},
   "outputs": [],
   "source": [
    "import numpy as np\n",
    "import feather as ftr"
   ]
  },
  {
   "cell_type": "code",
   "execution_count": 24,
   "metadata": {},
   "outputs": [],
   "source": [
    "def augmation(x,y,t=2):\n",
    "    xs,xn = [],[]\n",
    "    for i in range(t):\n",
    "        mask = y>0\n",
    "        \n",
    "        #targetが1のものだけコピー\n",
    "        x1 = x[mask].copy()\n",
    "        print(x1.shape)\n",
    "        ids = np.arange(x1.shape[0])\n",
    "        for c in range(x1.shape[1]):\n",
    "            np.random.shuffle(ids)\n",
    "            x1[:,c] = x1[ids][:,c]\n",
    "        xs.append(x1)\n",
    "\n",
    "    for i in range(t//2):\n",
    "        mask = y==0\n",
    "        x1 = x[mask].copy()\n",
    "        ids = np.arange(x1.shape[0])\n",
    "        print(x1.shape)\n",
    "        for c in range(x1.shape[1]):\n",
    "            np.random.shuffle(ids)\n",
    "            x1[:,c] = x1[ids][:,c]\n",
    "        xn.append(x1)\n",
    "    print('xs')\n",
    "    print(len(xs))\n",
    "    xs = np.vstack(xs)\n",
    "    print(len(xs))\n",
    "    print('xn')\n",
    "    print(len(xn))\n",
    "    xn = np.vstack(xn)\n",
    "    print(len(xn))\n",
    "    ys = np.ones(xs.shape[0])\n",
    "    yn = np.zeros(xn.shape[0])\n",
    "    x = np.vstack([x,xs,xn])\n",
    "    y = np.concatenate([y,ys,yn])\n",
    "    return x,y"
   ]
  },
  {
   "cell_type": "code",
   "execution_count": 3,
   "metadata": {},
   "outputs": [],
   "source": [
    "train = ftr.read_dataframe('../data/input/train.feather')\n",
    "test = ftr.read_dataframe('../data/input/test.feather')"
   ]
  },
  {
   "cell_type": "code",
   "execution_count": 7,
   "metadata": {},
   "outputs": [],
   "source": [
    "features = [col for col in train.columns if col not in ['target', 'ID_code']]\n",
    "X_train, y_train = train.iloc[:][features], train.iloc[:]['target']\n"
   ]
  },
  {
   "cell_type": "code",
   "execution_count": 25,
   "metadata": {},
   "outputs": [
    {
     "name": "stdout",
     "output_type": "stream",
     "text": [
      "(16078, 200)\n",
      "(16078, 200)\n",
      "(143921, 200)\n",
      "xs\n",
      "2\n",
      "32156\n",
      "xn\n",
      "1\n",
      "143921\n",
      "(16078, 200)\n",
      "(16078, 200)\n",
      "(143921, 200)\n",
      "xs\n",
      "2\n",
      "32156\n",
      "xn\n",
      "1\n",
      "143921\n",
      "(16078, 200)\n",
      "(16078, 200)\n",
      "(143922, 200)\n",
      "xs\n",
      "2\n",
      "32156\n",
      "xn\n",
      "1\n",
      "143922\n",
      "(16079, 200)\n",
      "(16079, 200)\n",
      "(143922, 200)\n",
      "xs\n",
      "2\n",
      "32158\n",
      "xn\n",
      "1\n",
      "143922\n",
      "(16079, 200)\n",
      "(16079, 200)\n",
      "(143922, 200)\n",
      "xs\n",
      "2\n",
      "32158\n",
      "xn\n",
      "1\n",
      "143922\n"
     ]
    }
   ],
   "source": [
    "from sklearn.model_selection import KFold, StratifiedKFold\n",
    "random_state=42\n",
    "skf = StratifiedKFold(n_splits=5, shuffle=True, random_state=random_state)\n",
    "for fold, (trn_idx, val_idx) in enumerate(skf.split(train, train['target'])):\n",
    "    X_train, y_train = train.iloc[trn_idx][features], train.iloc[trn_idx]['target']\n",
    "    X_valid, y_valid = train.iloc[val_idx][features], train.iloc[val_idx]['target']\n",
    "    augmation(X_train.values,y_train.values,t=2)"
   ]
  },
  {
   "cell_type": "code",
   "execution_count": null,
   "metadata": {},
   "outputs": [],
   "source": []
  }
 ],
 "metadata": {
  "kernelspec": {
   "display_name": "Python 3",
   "language": "python",
   "name": "python3"
  },
  "language_info": {
   "codemirror_mode": {
    "name": "ipython",
    "version": 3
   },
   "file_extension": ".py",
   "mimetype": "text/x-python",
   "name": "python",
   "nbconvert_exporter": "python",
   "pygments_lexer": "ipython3",
   "version": "3.7.1"
  }
 },
 "nbformat": 4,
 "nbformat_minor": 2
}
